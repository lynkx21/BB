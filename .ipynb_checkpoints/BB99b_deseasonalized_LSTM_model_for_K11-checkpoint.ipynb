{
 "cells": [
  {
   "cell_type": "code",
   "execution_count": 1,
   "metadata": {},
   "outputs": [
    {
     "name": "stderr",
     "output_type": "stream",
     "text": [
      "Using TensorFlow backend.\n"
     ]
    }
   ],
   "source": [
    "import os\n",
    "import numpy as np\n",
    "import pandas as pd\n",
    "import matplotlib.pyplot as plt\n",
    "%matplotlib inline\n",
    "\n",
    "# LSTM Model\n",
    "from sklearn.metrics import mean_squared_error\n",
    "from keras.models import Sequential\n",
    "from keras.layers import Dense, LSTM"
   ]
  },
  {
   "cell_type": "code",
   "execution_count": 2,
   "metadata": {},
   "outputs": [
    {
     "data": {
      "text/plain": [
       "'/nfs/science/shared/ipythonNotebooks/leom/Kaggle/BB/data'"
      ]
     },
     "execution_count": 2,
     "metadata": {},
     "output_type": "execute_result"
    }
   ],
   "source": [
    "data_path = os.path.join(os.getcwd(), 'data')\n",
    "data_path"
   ]
  },
  {
   "cell_type": "code",
   "execution_count": 3,
   "metadata": {
    "collapsed": true
   },
   "outputs": [],
   "source": [
    "df_kpis = pd.read_excel(os.path.join(data_path, 'analisi.xlsx'), sheetname='KPIs')\n",
    "df_spending = pd.read_excel(os.path.join(data_path, 'analisi.xlsx'), sheetname='Spending')"
   ]
  },
  {
   "cell_type": "code",
   "execution_count": 4,
   "metadata": {
    "collapsed": true
   },
   "outputs": [],
   "source": [
    "df_kpis.sort_values(by='Date', inplace=True)\n",
    "df_spending.sort_values(by='Date', inplace=True)\n",
    "\n",
    "# Drop K5, because it's another response variable\n",
    "df_kpis.drop('K5', axis=1, inplace=True)"
   ]
  },
  {
   "cell_type": "code",
   "execution_count": 5,
   "metadata": {},
   "outputs": [
    {
     "name": "stdout",
     "output_type": "stream",
     "text": [
      "<class 'pandas.core.frame.DataFrame'>\n",
      "Int64Index: 932 entries, 0 to 931\n",
      "Data columns (total 11 columns):\n",
      "Date    932 non-null datetime64[ns]\n",
      "K1      932 non-null int64\n",
      "K2      932 non-null int64\n",
      "K3      932 non-null int64\n",
      "K4      932 non-null int64\n",
      "K6      932 non-null int64\n",
      "K7      932 non-null int64\n",
      "K8      932 non-null int64\n",
      "K9      932 non-null float64\n",
      "K10     932 non-null float64\n",
      "K11     932 non-null float64\n",
      "dtypes: datetime64[ns](1), float64(3), int64(7)\n",
      "memory usage: 87.4 KB\n"
     ]
    }
   ],
   "source": [
    "# Date metric\n",
    "df_kpis.info()"
   ]
  },
  {
   "cell_type": "code",
   "execution_count": 6,
   "metadata": {
    "collapsed": true
   },
   "outputs": [],
   "source": [
    "df_kpis['month'] = df_kpis['Date'].dt.month\n",
    "df_kpis['year'] = df_kpis['Date'].dt.year\n",
    "df_kpis['weekday'] = df_kpis['Date'].dt.weekday\n",
    "df_kpis['days_in_month'] = df_kpis['Date'].dt.daysinmonth"
   ]
  },
  {
   "cell_type": "code",
   "execution_count": 7,
   "metadata": {
    "collapsed": true
   },
   "outputs": [],
   "source": [
    "df_kpis_date = df_kpis['Date']\n",
    "df_kpis.index = df_kpis_date\n",
    "df_kpis.drop('Date', axis=1, inplace=True)"
   ]
  },
  {
   "cell_type": "code",
   "execution_count": 8,
   "metadata": {},
   "outputs": [
    {
     "data": {
      "text/html": [
       "<div>\n",
       "<style>\n",
       "    .dataframe thead tr:only-child th {\n",
       "        text-align: right;\n",
       "    }\n",
       "\n",
       "    .dataframe thead th {\n",
       "        text-align: left;\n",
       "    }\n",
       "\n",
       "    .dataframe tbody tr th {\n",
       "        vertical-align: top;\n",
       "    }\n",
       "</style>\n",
       "<table border=\"1\" class=\"dataframe\">\n",
       "  <thead>\n",
       "    <tr style=\"text-align: right;\">\n",
       "      <th></th>\n",
       "      <th>K1</th>\n",
       "      <th>K2</th>\n",
       "      <th>K3</th>\n",
       "      <th>K4</th>\n",
       "      <th>K6</th>\n",
       "      <th>K7</th>\n",
       "      <th>K8</th>\n",
       "      <th>K9</th>\n",
       "      <th>K10</th>\n",
       "      <th>K11</th>\n",
       "      <th>month</th>\n",
       "      <th>year</th>\n",
       "      <th>weekday</th>\n",
       "      <th>days_in_month</th>\n",
       "    </tr>\n",
       "    <tr>\n",
       "      <th>Date</th>\n",
       "      <th></th>\n",
       "      <th></th>\n",
       "      <th></th>\n",
       "      <th></th>\n",
       "      <th></th>\n",
       "      <th></th>\n",
       "      <th></th>\n",
       "      <th></th>\n",
       "      <th></th>\n",
       "      <th></th>\n",
       "      <th></th>\n",
       "      <th></th>\n",
       "      <th></th>\n",
       "      <th></th>\n",
       "    </tr>\n",
       "  </thead>\n",
       "  <tbody>\n",
       "    <tr>\n",
       "      <th>2015-03-16</th>\n",
       "      <td>0</td>\n",
       "      <td>0</td>\n",
       "      <td>155</td>\n",
       "      <td>0</td>\n",
       "      <td>379</td>\n",
       "      <td>195</td>\n",
       "      <td>923</td>\n",
       "      <td>3.030303</td>\n",
       "      <td>0.210184</td>\n",
       "      <td>0.333333</td>\n",
       "      <td>3</td>\n",
       "      <td>2015</td>\n",
       "      <td>0</td>\n",
       "      <td>31</td>\n",
       "    </tr>\n",
       "    <tr>\n",
       "      <th>2015-03-17</th>\n",
       "      <td>1</td>\n",
       "      <td>8</td>\n",
       "      <td>1074</td>\n",
       "      <td>34</td>\n",
       "      <td>658</td>\n",
       "      <td>468</td>\n",
       "      <td>3563</td>\n",
       "      <td>4.532667</td>\n",
       "      <td>0.370474</td>\n",
       "      <td>0.301205</td>\n",
       "      <td>3</td>\n",
       "      <td>2015</td>\n",
       "      <td>1</td>\n",
       "      <td>31</td>\n",
       "    </tr>\n",
       "    <tr>\n",
       "      <th>2015-03-18</th>\n",
       "      <td>0</td>\n",
       "      <td>10</td>\n",
       "      <td>1129</td>\n",
       "      <td>46</td>\n",
       "      <td>652</td>\n",
       "      <td>493</td>\n",
       "      <td>3679</td>\n",
       "      <td>4.902364</td>\n",
       "      <td>0.366676</td>\n",
       "      <td>0.288462</td>\n",
       "      <td>3</td>\n",
       "      <td>2015</td>\n",
       "      <td>2</td>\n",
       "      <td>31</td>\n",
       "    </tr>\n",
       "    <tr>\n",
       "      <th>2015-03-19</th>\n",
       "      <td>0</td>\n",
       "      <td>7</td>\n",
       "      <td>1107</td>\n",
       "      <td>33</td>\n",
       "      <td>597</td>\n",
       "      <td>522</td>\n",
       "      <td>3517</td>\n",
       "      <td>4.775744</td>\n",
       "      <td>0.355701</td>\n",
       "      <td>0.385714</td>\n",
       "      <td>3</td>\n",
       "      <td>2015</td>\n",
       "      <td>3</td>\n",
       "      <td>31</td>\n",
       "    </tr>\n",
       "    <tr>\n",
       "      <th>2015-03-20</th>\n",
       "      <td>0</td>\n",
       "      <td>13</td>\n",
       "      <td>1116</td>\n",
       "      <td>143</td>\n",
       "      <td>606</td>\n",
       "      <td>453</td>\n",
       "      <td>3815</td>\n",
       "      <td>4.228381</td>\n",
       "      <td>0.388991</td>\n",
       "      <td>0.678571</td>\n",
       "      <td>3</td>\n",
       "      <td>2015</td>\n",
       "      <td>4</td>\n",
       "      <td>31</td>\n",
       "    </tr>\n",
       "  </tbody>\n",
       "</table>\n",
       "</div>"
      ],
      "text/plain": [
       "            K1  K2    K3   K4   K6   K7    K8        K9       K10       K11  \\\n",
       "Date                                                                          \n",
       "2015-03-16   0   0   155    0  379  195   923  3.030303  0.210184  0.333333   \n",
       "2015-03-17   1   8  1074   34  658  468  3563  4.532667  0.370474  0.301205   \n",
       "2015-03-18   0  10  1129   46  652  493  3679  4.902364  0.366676  0.288462   \n",
       "2015-03-19   0   7  1107   33  597  522  3517  4.775744  0.355701  0.385714   \n",
       "2015-03-20   0  13  1116  143  606  453  3815  4.228381  0.388991  0.678571   \n",
       "\n",
       "            month  year  weekday  days_in_month  \n",
       "Date                                             \n",
       "2015-03-16      3  2015        0             31  \n",
       "2015-03-17      3  2015        1             31  \n",
       "2015-03-18      3  2015        2             31  \n",
       "2015-03-19      3  2015        3             31  \n",
       "2015-03-20      3  2015        4             31  "
      ]
     },
     "execution_count": 8,
     "metadata": {},
     "output_type": "execute_result"
    }
   ],
   "source": [
    "df_kpis.head()"
   ]
  },
  {
   "cell_type": "code",
   "execution_count": 9,
   "metadata": {
    "collapsed": true
   },
   "outputs": [],
   "source": [
    "df_spending['month'] = df_spending['Date'].dt.month\n",
    "df_spending['year'] = df_spending['Date'].dt.year\n",
    "df_spending['days_in_month'] = df_spending['Date'].dt.daysinmonth\n",
    "df_spending.index = df_spending['Date']\n",
    "df_spending.drop('Date', axis=1, inplace=True)"
   ]
  },
  {
   "cell_type": "code",
   "execution_count": 10,
   "metadata": {
    "collapsed": true
   },
   "outputs": [],
   "source": [
    "df_spending['avgE1'] = df_spending['E1']/df_spending['days_in_month']\n",
    "df_spending['avgE2'] = df_spending['E2']/df_spending['days_in_month']"
   ]
  },
  {
   "cell_type": "code",
   "execution_count": 11,
   "metadata": {
    "collapsed": true
   },
   "outputs": [],
   "source": [
    "df_kpis = df_kpis.merge(df_spending[['year', 'month', 'avgE1', 'avgE2']], on=['year', 'month'],\n",
    "                        how='inner')\n",
    "df_kpis.index = df_kpis_date"
   ]
  },
  {
   "cell_type": "code",
   "execution_count": 12,
   "metadata": {},
   "outputs": [
    {
     "data": {
      "text/html": [
       "<div>\n",
       "<style>\n",
       "    .dataframe thead tr:only-child th {\n",
       "        text-align: right;\n",
       "    }\n",
       "\n",
       "    .dataframe thead th {\n",
       "        text-align: left;\n",
       "    }\n",
       "\n",
       "    .dataframe tbody tr th {\n",
       "        vertical-align: top;\n",
       "    }\n",
       "</style>\n",
       "<table border=\"1\" class=\"dataframe\">\n",
       "  <thead>\n",
       "    <tr style=\"text-align: right;\">\n",
       "      <th></th>\n",
       "      <th>K1</th>\n",
       "      <th>K2</th>\n",
       "      <th>K3</th>\n",
       "      <th>K4</th>\n",
       "      <th>K6</th>\n",
       "      <th>K7</th>\n",
       "      <th>K8</th>\n",
       "      <th>K9</th>\n",
       "      <th>K10</th>\n",
       "      <th>K11</th>\n",
       "      <th>month</th>\n",
       "      <th>year</th>\n",
       "      <th>weekday</th>\n",
       "      <th>days_in_month</th>\n",
       "      <th>avgE1</th>\n",
       "      <th>avgE2</th>\n",
       "    </tr>\n",
       "    <tr>\n",
       "      <th>Date</th>\n",
       "      <th></th>\n",
       "      <th></th>\n",
       "      <th></th>\n",
       "      <th></th>\n",
       "      <th></th>\n",
       "      <th></th>\n",
       "      <th></th>\n",
       "      <th></th>\n",
       "      <th></th>\n",
       "      <th></th>\n",
       "      <th></th>\n",
       "      <th></th>\n",
       "      <th></th>\n",
       "      <th></th>\n",
       "      <th></th>\n",
       "      <th></th>\n",
       "    </tr>\n",
       "  </thead>\n",
       "  <tbody>\n",
       "    <tr>\n",
       "      <th>2015-03-16</th>\n",
       "      <td>0</td>\n",
       "      <td>0</td>\n",
       "      <td>155</td>\n",
       "      <td>0</td>\n",
       "      <td>379</td>\n",
       "      <td>195</td>\n",
       "      <td>923</td>\n",
       "      <td>3.030303</td>\n",
       "      <td>0.210184</td>\n",
       "      <td>0.333333</td>\n",
       "      <td>3</td>\n",
       "      <td>2015</td>\n",
       "      <td>0</td>\n",
       "      <td>31</td>\n",
       "      <td>530.129032</td>\n",
       "      <td>4403.387097</td>\n",
       "    </tr>\n",
       "    <tr>\n",
       "      <th>2015-03-17</th>\n",
       "      <td>1</td>\n",
       "      <td>8</td>\n",
       "      <td>1074</td>\n",
       "      <td>34</td>\n",
       "      <td>658</td>\n",
       "      <td>468</td>\n",
       "      <td>3563</td>\n",
       "      <td>4.532667</td>\n",
       "      <td>0.370474</td>\n",
       "      <td>0.301205</td>\n",
       "      <td>3</td>\n",
       "      <td>2015</td>\n",
       "      <td>1</td>\n",
       "      <td>31</td>\n",
       "      <td>530.129032</td>\n",
       "      <td>4403.387097</td>\n",
       "    </tr>\n",
       "    <tr>\n",
       "      <th>2015-03-18</th>\n",
       "      <td>0</td>\n",
       "      <td>10</td>\n",
       "      <td>1129</td>\n",
       "      <td>46</td>\n",
       "      <td>652</td>\n",
       "      <td>493</td>\n",
       "      <td>3679</td>\n",
       "      <td>4.902364</td>\n",
       "      <td>0.366676</td>\n",
       "      <td>0.288462</td>\n",
       "      <td>3</td>\n",
       "      <td>2015</td>\n",
       "      <td>2</td>\n",
       "      <td>31</td>\n",
       "      <td>530.129032</td>\n",
       "      <td>4403.387097</td>\n",
       "    </tr>\n",
       "    <tr>\n",
       "      <th>2015-03-19</th>\n",
       "      <td>0</td>\n",
       "      <td>7</td>\n",
       "      <td>1107</td>\n",
       "      <td>33</td>\n",
       "      <td>597</td>\n",
       "      <td>522</td>\n",
       "      <td>3517</td>\n",
       "      <td>4.775744</td>\n",
       "      <td>0.355701</td>\n",
       "      <td>0.385714</td>\n",
       "      <td>3</td>\n",
       "      <td>2015</td>\n",
       "      <td>3</td>\n",
       "      <td>31</td>\n",
       "      <td>530.129032</td>\n",
       "      <td>4403.387097</td>\n",
       "    </tr>\n",
       "    <tr>\n",
       "      <th>2015-03-20</th>\n",
       "      <td>0</td>\n",
       "      <td>13</td>\n",
       "      <td>1116</td>\n",
       "      <td>143</td>\n",
       "      <td>606</td>\n",
       "      <td>453</td>\n",
       "      <td>3815</td>\n",
       "      <td>4.228381</td>\n",
       "      <td>0.388991</td>\n",
       "      <td>0.678571</td>\n",
       "      <td>3</td>\n",
       "      <td>2015</td>\n",
       "      <td>4</td>\n",
       "      <td>31</td>\n",
       "      <td>530.129032</td>\n",
       "      <td>4403.387097</td>\n",
       "    </tr>\n",
       "  </tbody>\n",
       "</table>\n",
       "</div>"
      ],
      "text/plain": [
       "            K1  K2    K3   K4   K6   K7    K8        K9       K10       K11  \\\n",
       "Date                                                                          \n",
       "2015-03-16   0   0   155    0  379  195   923  3.030303  0.210184  0.333333   \n",
       "2015-03-17   1   8  1074   34  658  468  3563  4.532667  0.370474  0.301205   \n",
       "2015-03-18   0  10  1129   46  652  493  3679  4.902364  0.366676  0.288462   \n",
       "2015-03-19   0   7  1107   33  597  522  3517  4.775744  0.355701  0.385714   \n",
       "2015-03-20   0  13  1116  143  606  453  3815  4.228381  0.388991  0.678571   \n",
       "\n",
       "            month  year  weekday  days_in_month       avgE1        avgE2  \n",
       "Date                                                                      \n",
       "2015-03-16      3  2015        0             31  530.129032  4403.387097  \n",
       "2015-03-17      3  2015        1             31  530.129032  4403.387097  \n",
       "2015-03-18      3  2015        2             31  530.129032  4403.387097  \n",
       "2015-03-19      3  2015        3             31  530.129032  4403.387097  \n",
       "2015-03-20      3  2015        4             31  530.129032  4403.387097  "
      ]
     },
     "execution_count": 12,
     "metadata": {},
     "output_type": "execute_result"
    }
   ],
   "source": [
    "df_kpis.head()"
   ]
  },
  {
   "cell_type": "code",
   "execution_count": 13,
   "metadata": {},
   "outputs": [
    {
     "data": {
      "text/plain": [
       "(932, 16)"
      ]
     },
     "execution_count": 13,
     "metadata": {},
     "output_type": "execute_result"
    }
   ],
   "source": [
    "df_kpis.shape"
   ]
  },
  {
   "cell_type": "code",
   "execution_count": 14,
   "metadata": {
    "collapsed": true
   },
   "outputs": [],
   "source": [
    "cols_list = [i for i in df_kpis.columns if i[0] == 'K']\n",
    "cols_list.append('avgE1')\n",
    "cols_list.append('avgE2')"
   ]
  },
  {
   "cell_type": "code",
   "execution_count": 15,
   "metadata": {},
   "outputs": [
    {
     "name": "stdout",
     "output_type": "stream",
     "text": [
      "['K1', 'K2', 'K3', 'K4', 'K6', 'K7', 'K8', 'K9', 'K10', 'K11', 'avgE1', 'avgE2']\n"
     ]
    }
   ],
   "source": [
    "print(cols_list)"
   ]
  },
  {
   "cell_type": "code",
   "execution_count": 16,
   "metadata": {},
   "outputs": [
    {
     "data": {
      "text/html": [
       "<div>\n",
       "<style>\n",
       "    .dataframe thead tr:only-child th {\n",
       "        text-align: right;\n",
       "    }\n",
       "\n",
       "    .dataframe thead th {\n",
       "        text-align: left;\n",
       "    }\n",
       "\n",
       "    .dataframe tbody tr th {\n",
       "        vertical-align: top;\n",
       "    }\n",
       "</style>\n",
       "<table border=\"1\" class=\"dataframe\">\n",
       "  <thead>\n",
       "    <tr style=\"text-align: right;\">\n",
       "      <th></th>\n",
       "      <th>K1</th>\n",
       "      <th>K2</th>\n",
       "      <th>K3</th>\n",
       "      <th>K4</th>\n",
       "      <th>K6</th>\n",
       "      <th>K7</th>\n",
       "      <th>K8</th>\n",
       "      <th>K9</th>\n",
       "      <th>K10</th>\n",
       "      <th>K11</th>\n",
       "      <th>avgE1</th>\n",
       "      <th>avgE2</th>\n",
       "    </tr>\n",
       "    <tr>\n",
       "      <th>Date</th>\n",
       "      <th></th>\n",
       "      <th></th>\n",
       "      <th></th>\n",
       "      <th></th>\n",
       "      <th></th>\n",
       "      <th></th>\n",
       "      <th></th>\n",
       "      <th></th>\n",
       "      <th></th>\n",
       "      <th></th>\n",
       "      <th></th>\n",
       "      <th></th>\n",
       "    </tr>\n",
       "  </thead>\n",
       "  <tbody>\n",
       "    <tr>\n",
       "      <th>2015-03-16</th>\n",
       "      <td>0.000000</td>\n",
       "      <td>0.000000</td>\n",
       "      <td>5.049856</td>\n",
       "      <td>0.000000</td>\n",
       "      <td>5.940171</td>\n",
       "      <td>5.278115</td>\n",
       "      <td>6.828712</td>\n",
       "      <td>1.393842</td>\n",
       "      <td>0.190773</td>\n",
       "      <td>0.287682</td>\n",
       "      <td>6.275005</td>\n",
       "      <td>8.390356</td>\n",
       "    </tr>\n",
       "    <tr>\n",
       "      <th>2015-03-17</th>\n",
       "      <td>0.693147</td>\n",
       "      <td>2.197225</td>\n",
       "      <td>6.980076</td>\n",
       "      <td>3.555348</td>\n",
       "      <td>6.490724</td>\n",
       "      <td>6.150603</td>\n",
       "      <td>8.178639</td>\n",
       "      <td>1.710670</td>\n",
       "      <td>0.315157</td>\n",
       "      <td>0.263291</td>\n",
       "      <td>6.275005</td>\n",
       "      <td>8.390356</td>\n",
       "    </tr>\n",
       "    <tr>\n",
       "      <th>2015-03-18</th>\n",
       "      <td>0.000000</td>\n",
       "      <td>2.397895</td>\n",
       "      <td>7.029973</td>\n",
       "      <td>3.850148</td>\n",
       "      <td>6.481577</td>\n",
       "      <td>6.202536</td>\n",
       "      <td>8.210668</td>\n",
       "      <td>1.775353</td>\n",
       "      <td>0.312381</td>\n",
       "      <td>0.253449</td>\n",
       "      <td>6.275005</td>\n",
       "      <td>8.390356</td>\n",
       "    </tr>\n",
       "    <tr>\n",
       "      <th>2015-03-19</th>\n",
       "      <td>0.000000</td>\n",
       "      <td>2.079442</td>\n",
       "      <td>7.010312</td>\n",
       "      <td>3.526361</td>\n",
       "      <td>6.393591</td>\n",
       "      <td>6.259581</td>\n",
       "      <td>8.165648</td>\n",
       "      <td>1.753667</td>\n",
       "      <td>0.304319</td>\n",
       "      <td>0.326216</td>\n",
       "      <td>6.275005</td>\n",
       "      <td>8.390356</td>\n",
       "    </tr>\n",
       "    <tr>\n",
       "      <th>2015-03-20</th>\n",
       "      <td>0.000000</td>\n",
       "      <td>2.639057</td>\n",
       "      <td>7.018402</td>\n",
       "      <td>4.969813</td>\n",
       "      <td>6.408529</td>\n",
       "      <td>6.118097</td>\n",
       "      <td>8.246958</td>\n",
       "      <td>1.654102</td>\n",
       "      <td>0.328577</td>\n",
       "      <td>0.517943</td>\n",
       "      <td>6.275005</td>\n",
       "      <td>8.390356</td>\n",
       "    </tr>\n",
       "  </tbody>\n",
       "</table>\n",
       "</div>"
      ],
      "text/plain": [
       "                  K1        K2        K3        K4        K6        K7  \\\n",
       "Date                                                                     \n",
       "2015-03-16  0.000000  0.000000  5.049856  0.000000  5.940171  5.278115   \n",
       "2015-03-17  0.693147  2.197225  6.980076  3.555348  6.490724  6.150603   \n",
       "2015-03-18  0.000000  2.397895  7.029973  3.850148  6.481577  6.202536   \n",
       "2015-03-19  0.000000  2.079442  7.010312  3.526361  6.393591  6.259581   \n",
       "2015-03-20  0.000000  2.639057  7.018402  4.969813  6.408529  6.118097   \n",
       "\n",
       "                  K8        K9       K10       K11     avgE1     avgE2  \n",
       "Date                                                                    \n",
       "2015-03-16  6.828712  1.393842  0.190773  0.287682  6.275005  8.390356  \n",
       "2015-03-17  8.178639  1.710670  0.315157  0.263291  6.275005  8.390356  \n",
       "2015-03-18  8.210668  1.775353  0.312381  0.253449  6.275005  8.390356  \n",
       "2015-03-19  8.165648  1.753667  0.304319  0.326216  6.275005  8.390356  \n",
       "2015-03-20  8.246958  1.654102  0.328577  0.517943  6.275005  8.390356  "
      ]
     },
     "execution_count": 16,
     "metadata": {},
     "output_type": "execute_result"
    }
   ],
   "source": [
    "logs = np.log1p(df_kpis[cols_list])\n",
    "logs.head()"
   ]
  },
  {
   "cell_type": "code",
   "execution_count": 17,
   "metadata": {},
   "outputs": [
    {
     "data": {
      "text/html": [
       "<div>\n",
       "<style>\n",
       "    .dataframe thead tr:only-child th {\n",
       "        text-align: right;\n",
       "    }\n",
       "\n",
       "    .dataframe thead th {\n",
       "        text-align: left;\n",
       "    }\n",
       "\n",
       "    .dataframe tbody tr th {\n",
       "        vertical-align: top;\n",
       "    }\n",
       "</style>\n",
       "<table border=\"1\" class=\"dataframe\">\n",
       "  <thead>\n",
       "    <tr style=\"text-align: right;\">\n",
       "      <th></th>\n",
       "      <th>month_1</th>\n",
       "      <th>month_10</th>\n",
       "      <th>month_11</th>\n",
       "      <th>month_12</th>\n",
       "      <th>month_2</th>\n",
       "      <th>month_3</th>\n",
       "      <th>month_4</th>\n",
       "      <th>month_5</th>\n",
       "      <th>month_6</th>\n",
       "      <th>month_7</th>\n",
       "      <th>month_8</th>\n",
       "      <th>month_9</th>\n",
       "      <th>weekday_0</th>\n",
       "      <th>weekday_1</th>\n",
       "      <th>weekday_2</th>\n",
       "      <th>weekday_3</th>\n",
       "      <th>weekday_4</th>\n",
       "      <th>weekday_5</th>\n",
       "      <th>weekday_6</th>\n",
       "    </tr>\n",
       "    <tr>\n",
       "      <th>Date</th>\n",
       "      <th></th>\n",
       "      <th></th>\n",
       "      <th></th>\n",
       "      <th></th>\n",
       "      <th></th>\n",
       "      <th></th>\n",
       "      <th></th>\n",
       "      <th></th>\n",
       "      <th></th>\n",
       "      <th></th>\n",
       "      <th></th>\n",
       "      <th></th>\n",
       "      <th></th>\n",
       "      <th></th>\n",
       "      <th></th>\n",
       "      <th></th>\n",
       "      <th></th>\n",
       "      <th></th>\n",
       "      <th></th>\n",
       "    </tr>\n",
       "  </thead>\n",
       "  <tbody>\n",
       "    <tr>\n",
       "      <th>2015-03-16</th>\n",
       "      <td>0</td>\n",
       "      <td>0</td>\n",
       "      <td>0</td>\n",
       "      <td>0</td>\n",
       "      <td>0</td>\n",
       "      <td>1</td>\n",
       "      <td>0</td>\n",
       "      <td>0</td>\n",
       "      <td>0</td>\n",
       "      <td>0</td>\n",
       "      <td>0</td>\n",
       "      <td>0</td>\n",
       "      <td>1</td>\n",
       "      <td>0</td>\n",
       "      <td>0</td>\n",
       "      <td>0</td>\n",
       "      <td>0</td>\n",
       "      <td>0</td>\n",
       "      <td>0</td>\n",
       "    </tr>\n",
       "    <tr>\n",
       "      <th>2015-03-17</th>\n",
       "      <td>0</td>\n",
       "      <td>0</td>\n",
       "      <td>0</td>\n",
       "      <td>0</td>\n",
       "      <td>0</td>\n",
       "      <td>1</td>\n",
       "      <td>0</td>\n",
       "      <td>0</td>\n",
       "      <td>0</td>\n",
       "      <td>0</td>\n",
       "      <td>0</td>\n",
       "      <td>0</td>\n",
       "      <td>0</td>\n",
       "      <td>1</td>\n",
       "      <td>0</td>\n",
       "      <td>0</td>\n",
       "      <td>0</td>\n",
       "      <td>0</td>\n",
       "      <td>0</td>\n",
       "    </tr>\n",
       "    <tr>\n",
       "      <th>2015-03-18</th>\n",
       "      <td>0</td>\n",
       "      <td>0</td>\n",
       "      <td>0</td>\n",
       "      <td>0</td>\n",
       "      <td>0</td>\n",
       "      <td>1</td>\n",
       "      <td>0</td>\n",
       "      <td>0</td>\n",
       "      <td>0</td>\n",
       "      <td>0</td>\n",
       "      <td>0</td>\n",
       "      <td>0</td>\n",
       "      <td>0</td>\n",
       "      <td>0</td>\n",
       "      <td>1</td>\n",
       "      <td>0</td>\n",
       "      <td>0</td>\n",
       "      <td>0</td>\n",
       "      <td>0</td>\n",
       "    </tr>\n",
       "    <tr>\n",
       "      <th>2015-03-19</th>\n",
       "      <td>0</td>\n",
       "      <td>0</td>\n",
       "      <td>0</td>\n",
       "      <td>0</td>\n",
       "      <td>0</td>\n",
       "      <td>1</td>\n",
       "      <td>0</td>\n",
       "      <td>0</td>\n",
       "      <td>0</td>\n",
       "      <td>0</td>\n",
       "      <td>0</td>\n",
       "      <td>0</td>\n",
       "      <td>0</td>\n",
       "      <td>0</td>\n",
       "      <td>0</td>\n",
       "      <td>1</td>\n",
       "      <td>0</td>\n",
       "      <td>0</td>\n",
       "      <td>0</td>\n",
       "    </tr>\n",
       "    <tr>\n",
       "      <th>2015-03-20</th>\n",
       "      <td>0</td>\n",
       "      <td>0</td>\n",
       "      <td>0</td>\n",
       "      <td>0</td>\n",
       "      <td>0</td>\n",
       "      <td>1</td>\n",
       "      <td>0</td>\n",
       "      <td>0</td>\n",
       "      <td>0</td>\n",
       "      <td>0</td>\n",
       "      <td>0</td>\n",
       "      <td>0</td>\n",
       "      <td>0</td>\n",
       "      <td>0</td>\n",
       "      <td>0</td>\n",
       "      <td>0</td>\n",
       "      <td>1</td>\n",
       "      <td>0</td>\n",
       "      <td>0</td>\n",
       "    </tr>\n",
       "  </tbody>\n",
       "</table>\n",
       "</div>"
      ],
      "text/plain": [
       "            month_1  month_10  month_11  month_12  month_2  month_3  month_4  \\\n",
       "Date                                                                           \n",
       "2015-03-16        0         0         0         0        0        1        0   \n",
       "2015-03-17        0         0         0         0        0        1        0   \n",
       "2015-03-18        0         0         0         0        0        1        0   \n",
       "2015-03-19        0         0         0         0        0        1        0   \n",
       "2015-03-20        0         0         0         0        0        1        0   \n",
       "\n",
       "            month_5  month_6  month_7  month_8  month_9  weekday_0  weekday_1  \\\n",
       "Date                                                                            \n",
       "2015-03-16        0        0        0        0        0          1          0   \n",
       "2015-03-17        0        0        0        0        0          0          1   \n",
       "2015-03-18        0        0        0        0        0          0          0   \n",
       "2015-03-19        0        0        0        0        0          0          0   \n",
       "2015-03-20        0        0        0        0        0          0          0   \n",
       "\n",
       "            weekday_2  weekday_3  weekday_4  weekday_5  weekday_6  \n",
       "Date                                                               \n",
       "2015-03-16          0          0          0          0          0  \n",
       "2015-03-17          0          0          0          0          0  \n",
       "2015-03-18          1          0          0          0          0  \n",
       "2015-03-19          0          1          0          0          0  \n",
       "2015-03-20          0          0          1          0          0  "
      ]
     },
     "execution_count": 17,
     "metadata": {},
     "output_type": "execute_result"
    }
   ],
   "source": [
    "dummies = pd.get_dummies(df_kpis[['month', 'weekday']].astype(str))\n",
    "dummies.head()"
   ]
  },
  {
   "cell_type": "code",
   "execution_count": 18,
   "metadata": {},
   "outputs": [
    {
     "name": "stdout",
     "output_type": "stream",
     "text": [
      "(932, 31)\n",
      "Index(['K1', 'K2', 'K3', 'K4', 'K6', 'K7', 'K8', 'K9', 'K10', 'K11', 'avgE1',\n",
      "       'avgE2', 'month_1', 'month_10', 'month_11', 'month_12', 'month_2',\n",
      "       'month_3', 'month_4', 'month_5', 'month_6', 'month_7', 'month_8',\n",
      "       'month_9', 'weekday_0', 'weekday_1', 'weekday_2', 'weekday_3',\n",
      "       'weekday_4', 'weekday_5', 'weekday_6'],\n",
      "      dtype='object')\n"
     ]
    }
   ],
   "source": [
    "df = pd.concat([logs, dummies], axis=1)\n",
    "print(df.shape)\n",
    "print(df.columns)"
   ]
  },
  {
   "cell_type": "markdown",
   "metadata": {},
   "source": [
    "Deseasonalize the target series"
   ]
  },
  {
   "cell_type": "code",
   "execution_count": 19,
   "metadata": {
    "scrolled": true
   },
   "outputs": [
    {
     "name": "stderr",
     "output_type": "stream",
     "text": [
      "/usr/lib64/python3.4/importlib/_bootstrap.py:321: FutureWarning: The pandas.core.datetools module is deprecated and will be removed in a future version. Please use the pandas.tseries module instead.\n",
      "  return f(*args, **kwds)\n"
     ]
    },
    {
     "data": {
      "image/png": "[encoded data removed]",
      "text/plain": [
       "<matplotlib.figure.Figure at 0x7f8679342a20>"
      ]
     },
     "metadata": {},
     "output_type": "display_data"
    }
   ],
   "source": [
    "from statsmodels.tsa.seasonal import seasonal_decompose\n",
    "decomp = seasonal_decompose(df['K11'])\n",
    "decomp.plot()\n",
    "plt.show()"
   ]
  },
  {
   "cell_type": "code",
   "execution_count": 20,
   "metadata": {
    "collapsed": true
   },
   "outputs": [],
   "source": [
    "new_k11 = pd.DataFrame(df['K11'] - decomp.seasonal)"
   ]
  },
  {
   "cell_type": "code",
   "execution_count": 21,
   "metadata": {},
   "outputs": [
    {
     "data": {
      "text/plain": [
       "<matplotlib.axes._subplots.AxesSubplot at 0x7f861ec2b908>"
      ]
     },
     "execution_count": 21,
     "metadata": {},
     "output_type": "execute_result"
    },
    {
     "data": {
      "image/png": "[encoded data removed]",
      "text/plain": [
       "<matplotlib.figure.Figure at 0x7f861ec66748>"
      ]
     },
     "metadata": {},
     "output_type": "display_data"
    }
   ],
   "source": [
    "new_k11.plot()"
   ]
  },
  {
   "cell_type": "code",
   "execution_count": 22,
   "metadata": {
    "collapsed": true
   },
   "outputs": [],
   "source": [
    "def lagger(df, lag=1):\n",
    "    dfs = df.shift(lag)\n",
    "    new_cols = []\n",
    "    for col in dfs.columns:\n",
    "        new_cols.append(col + '_lag{}'.format(str(lag).zfill(2)))\n",
    "    dfs.columns = new_cols\n",
    "    return dfs"
   ]
  },
  {
   "cell_type": "code",
   "execution_count": 23,
   "metadata": {},
   "outputs": [
    {
     "data": {
      "text/html": [
       "<div>\n",
       "<style>\n",
       "    .dataframe thead tr:only-child th {\n",
       "        text-align: right;\n",
       "    }\n",
       "\n",
       "    .dataframe thead th {\n",
       "        text-align: left;\n",
       "    }\n",
       "\n",
       "    .dataframe tbody tr th {\n",
       "        vertical-align: top;\n",
       "    }\n",
       "</style>\n",
       "<table border=\"1\" class=\"dataframe\">\n",
       "  <thead>\n",
       "    <tr style=\"text-align: right;\">\n",
       "      <th></th>\n",
       "      <th>K11</th>\n",
       "      <th>K11_lag01</th>\n",
       "      <th>K11_lag02</th>\n",
       "      <th>K11_lag03</th>\n",
       "    </tr>\n",
       "    <tr>\n",
       "      <th>Date</th>\n",
       "      <th></th>\n",
       "      <th></th>\n",
       "      <th></th>\n",
       "      <th></th>\n",
       "    </tr>\n",
       "  </thead>\n",
       "  <tbody>\n",
       "    <tr>\n",
       "      <th>2015-03-19</th>\n",
       "      <td>0.321884</td>\n",
       "      <td>0.248950</td>\n",
       "      <td>0.253819</td>\n",
       "      <td>0.272384</td>\n",
       "    </tr>\n",
       "    <tr>\n",
       "      <th>2015-03-20</th>\n",
       "      <td>0.515648</td>\n",
       "      <td>0.321884</td>\n",
       "      <td>0.248950</td>\n",
       "      <td>0.253819</td>\n",
       "    </tr>\n",
       "    <tr>\n",
       "      <th>2015-03-21</th>\n",
       "      <td>0.379307</td>\n",
       "      <td>0.515648</td>\n",
       "      <td>0.321884</td>\n",
       "      <td>0.248950</td>\n",
       "    </tr>\n",
       "    <tr>\n",
       "      <th>2015-03-22</th>\n",
       "      <td>0.251057</td>\n",
       "      <td>0.379307</td>\n",
       "      <td>0.515648</td>\n",
       "      <td>0.321884</td>\n",
       "    </tr>\n",
       "    <tr>\n",
       "      <th>2015-03-23</th>\n",
       "      <td>0.363675</td>\n",
       "      <td>0.251057</td>\n",
       "      <td>0.379307</td>\n",
       "      <td>0.515648</td>\n",
       "    </tr>\n",
       "  </tbody>\n",
       "</table>\n",
       "</div>"
      ],
      "text/plain": [
       "                 K11  K11_lag01  K11_lag02  K11_lag03\n",
       "Date                                                 \n",
       "2015-03-19  0.321884   0.248950   0.253819   0.272384\n",
       "2015-03-20  0.515648   0.321884   0.248950   0.253819\n",
       "2015-03-21  0.379307   0.515648   0.321884   0.248950\n",
       "2015-03-22  0.251057   0.379307   0.515648   0.321884\n",
       "2015-03-23  0.363675   0.251057   0.379307   0.515648"
      ]
     },
     "execution_count": 23,
     "metadata": {},
     "output_type": "execute_result"
    }
   ],
   "source": [
    "df_shifted = lagger(new_k11, 1)\n",
    "df_shifted2 = lagger(new_k11, 2)\n",
    "df_shifted3 = lagger(new_k11, 3)\n",
    "df_shifted4 = lagger(new_k11, 4)\n",
    "df_shifted7 = lagger(new_k11, 7)\n",
    "df_shifted14 = lagger(new_k11, 14)\n",
    "\n",
    "df_shifted = pd.concat([new_k11, df_shifted, df_shifted2, df_shifted3], axis=1)\n",
    "# df_shifted = pd.concat([df, df_shifted, df_shifted2, df_shifted3, df_shifted4], axis=1)\n",
    "\n",
    "#df_shifted = pd.concat([df, df_shifted7, df_shifted14], axis=1)\n",
    "df_shifted.drop(df_shifted[df_shifted['K11_lag03'].isnull() == True].index, axis=0, inplace=True)\n",
    "df_shifted.head()"
   ]
  },
  {
   "cell_type": "code",
   "execution_count": 24,
   "metadata": {
    "collapsed": true
   },
   "outputs": [],
   "source": [
    "train = df_shifted[df_shifted.index < '2017-09-01']\n",
    "test = df_shifted[df_shifted.index >= '2017-09-01']"
   ]
  },
  {
   "cell_type": "code",
   "execution_count": 25,
   "metadata": {},
   "outputs": [
    {
     "data": {
      "text/plain": [
       "MinMaxScaler(copy=True, feature_range=(0, 1))"
      ]
     },
     "execution_count": 25,
     "metadata": {},
     "output_type": "execute_result"
    }
   ],
   "source": [
    "from sklearn.preprocessing import MinMaxScaler\n",
    "scaler = MinMaxScaler(feature_range=(0, 1))\n",
    "scaler.fit(train)"
   ]
  },
  {
   "cell_type": "code",
   "execution_count": 26,
   "metadata": {
    "collapsed": true,
    "scrolled": false
   },
   "outputs": [],
   "source": [
    "scaled_train = pd.DataFrame(scaler.transform(train), columns=train.columns, index=train.index)\n",
    "scaled_test = pd.DataFrame(scaler.transform(test), columns=test.columns, index=test.index)"
   ]
  },
  {
   "cell_type": "code",
   "execution_count": 27,
   "metadata": {
    "collapsed": true
   },
   "outputs": [],
   "source": [
    "# new_train = pd.concat([scaled_train, train.drop(cols_list, axis=1).head()], axis=1)\n",
    "# new_test = pd.concat([scaled_test, test.drop(cols_list, axis=1).head()], axis=1)\n",
    "new_train = scaled_train\n",
    "new_test = scaled_test"
   ]
  },
  {
   "cell_type": "code",
   "execution_count": 28,
   "metadata": {
    "collapsed": true
   },
   "outputs": [],
   "source": [
    "X_train = new_train.drop('K11', axis=1)\n",
    "y_train = new_train['K11']\n",
    "\n",
    "X_test = new_test.drop('K11', axis=1)\n",
    "y_test = new_test['K11']"
   ]
  },
  {
   "cell_type": "code",
   "execution_count": 29,
   "metadata": {
    "collapsed": true
   },
   "outputs": [],
   "source": [
    "X_train = X_train.values.reshape(X_train.shape[0], 1, X_train.shape[1])\n",
    "X_test = X_test.values.reshape(X_test.shape[0], 1, X_test.shape[1])"
   ]
  },
  {
   "cell_type": "code",
   "execution_count": 30,
   "metadata": {},
   "outputs": [
    {
     "name": "stdout",
     "output_type": "stream",
     "text": [
      "(897, 1, 3) (897,) (32, 1, 3) (32,)\n"
     ]
    }
   ],
   "source": [
    "print(X_train.shape, y_train.shape, X_test.shape, y_test.shape)"
   ]
  },
  {
   "cell_type": "code",
   "execution_count": 31,
   "metadata": {
    "scrolled": true
   },
   "outputs": [
    {
     "name": "stdout",
     "output_type": "stream",
     "text": [
      "Train on 897 samples, validate on 32 samples\n",
      "Epoch 1/100\n",
      "897/897 [==============================] - 3s - loss: 0.0835 - val_loss: 0.0465\n",
      "Epoch 2/100\n",
      "897/897 [==============================] - 2s - loss: 0.0172 - val_loss: 0.0428\n",
      "Epoch 3/100\n",
      "897/897 [==============================] - 2s - loss: 0.0166 - val_loss: 0.0412\n",
      "Epoch 4/100\n",
      "897/897 [==============================] - 2s - loss: 0.0156 - val_loss: 0.0399\n",
      "Epoch 5/100\n",
      "897/897 [==============================] - 2s - loss: 0.0147 - val_loss: 0.0385\n",
      "Epoch 6/100\n",
      "897/897 [==============================] - 2s - loss: 0.0140 - val_loss: 0.0372\n",
      "Epoch 7/100\n",
      "897/897 [==============================] - 2s - loss: 0.0134 - val_loss: 0.0359\n",
      "Epoch 8/100\n",
      "897/897 [==============================] - 2s - loss: 0.0129 - val_loss: 0.0347\n",
      "Epoch 9/100\n",
      "897/897 [==============================] - 2s - loss: 0.0125 - val_loss: 0.0336\n",
      "Epoch 10/100\n",
      "897/897 [==============================] - 2s - loss: 0.0123 - val_loss: 0.0326\n",
      "Epoch 11/100\n",
      "897/897 [==============================] - 2s - loss: 0.0121 - val_loss: 0.0318\n",
      "Epoch 12/100\n",
      "897/897 [==============================] - 2s - loss: 0.0119 - val_loss: 0.0311\n",
      "Epoch 13/100\n",
      "897/897 [==============================] - 2s - loss: 0.0118 - val_loss: 0.0306\n",
      "Epoch 14/100\n",
      "897/897 [==============================] - 2s - loss: 0.0118 - val_loss: 0.0301\n",
      "Epoch 15/100\n",
      "897/897 [==============================] - 2s - loss: 0.0117 - val_loss: 0.0297\n",
      "Epoch 16/100\n",
      "897/897 [==============================] - 2s - loss: 0.0117 - val_loss: 0.0293\n",
      "Epoch 17/100\n",
      "897/897 [==============================] - 2s - loss: 0.0117 - val_loss: 0.0290\n",
      "Epoch 18/100\n",
      "897/897 [==============================] - 2s - loss: 0.0117 - val_loss: 0.0287\n",
      "Epoch 19/100\n",
      "897/897 [==============================] - 2s - loss: 0.0117 - val_loss: 0.0284\n",
      "Epoch 20/100\n",
      "897/897 [==============================] - 2s - loss: 0.0117 - val_loss: 0.0282\n",
      "Epoch 21/100\n",
      "897/897 [==============================] - 2s - loss: 0.0117 - val_loss: 0.0279\n",
      "Epoch 22/100\n",
      "897/897 [==============================] - 2s - loss: 0.0117 - val_loss: 0.0277\n",
      "Epoch 23/100\n",
      "897/897 [==============================] - 2s - loss: 0.0116 - val_loss: 0.0275\n",
      "Epoch 24/100\n",
      "897/897 [==============================] - 2s - loss: 0.0116 - val_loss: 0.0273\n",
      "Epoch 25/100\n",
      "897/897 [==============================] - 2s - loss: 0.0116 - val_loss: 0.0271\n",
      "Epoch 26/100\n",
      "897/897 [==============================] - 2s - loss: 0.0116 - val_loss: 0.0269\n",
      "Epoch 27/100\n",
      "897/897 [==============================] - 2s - loss: 0.0116 - val_loss: 0.0267\n",
      "Epoch 28/100\n",
      "897/897 [==============================] - 2s - loss: 0.0116 - val_loss: 0.0266\n",
      "Epoch 29/100\n",
      "897/897 [==============================] - 2s - loss: 0.0116 - val_loss: 0.0264\n",
      "Epoch 30/100\n",
      "897/897 [==============================] - 2s - loss: 0.0116 - val_loss: 0.0263\n",
      "Epoch 31/100\n",
      "897/897 [==============================] - 2s - loss: 0.0116 - val_loss: 0.0262\n",
      "Epoch 32/100\n",
      "897/897 [==============================] - 2s - loss: 0.0116 - val_loss: 0.0261\n",
      "Epoch 33/100\n",
      "897/897 [==============================] - 2s - loss: 0.0116 - val_loss: 0.0260\n",
      "Epoch 34/100\n",
      "897/897 [==============================] - 2s - loss: 0.0116 - val_loss: 0.0259\n",
      "Epoch 35/100\n",
      "897/897 [==============================] - 2s - loss: 0.0116 - val_loss: 0.0258\n",
      "Epoch 36/100\n",
      "897/897 [==============================] - 2s - loss: 0.0116 - val_loss: 0.0257\n",
      "Epoch 37/100\n",
      "897/897 [==============================] - 2s - loss: 0.0117 - val_loss: 0.0257\n",
      "Epoch 38/100\n",
      "897/897 [==============================] - 2s - loss: 0.0117 - val_loss: 0.0256\n",
      "Epoch 39/100\n",
      "897/897 [==============================] - 2s - loss: 0.0117 - val_loss: 0.0256\n",
      "Epoch 40/100\n",
      "897/897 [==============================] - 2s - loss: 0.0117 - val_loss: 0.0256\n",
      "Epoch 41/100\n",
      "897/897 [==============================] - 2s - loss: 0.0117 - val_loss: 0.0255\n",
      "Epoch 42/100\n",
      "897/897 [==============================] - 2s - loss: 0.0117 - val_loss: 0.0255\n",
      "Epoch 43/100\n",
      "897/897 [==============================] - 2s - loss: 0.0117 - val_loss: 0.0255\n",
      "Epoch 44/100\n",
      "897/897 [==============================] - 2s - loss: 0.0117 - val_loss: 0.0255\n",
      "Epoch 45/100\n",
      "897/897 [==============================] - 2s - loss: 0.0117 - val_loss: 0.0255ss: 0.\n",
      "Epoch 46/100\n",
      "897/897 [==============================] - 2s - loss: 0.0117 - val_loss: 0.0255\n",
      "Epoch 47/100\n",
      "897/897 [==============================] - 2s - loss: 0.0117 - val_loss: 0.0255\n",
      "Epoch 48/100\n",
      "897/897 [==============================] - 2s - loss: 0.0117 - val_loss: 0.0255\n",
      "Epoch 49/100\n",
      "897/897 [==============================] - 2s - loss: 0.0117 - val_loss: 0.0255\n",
      "Epoch 50/100\n",
      "897/897 [==============================] - 2s - loss: 0.0117 - val_loss: 0.0255\n",
      "Epoch 51/100\n",
      "897/897 [==============================] - 2s - loss: 0.0117 - val_loss: 0.0255\n",
      "Epoch 52/100\n",
      "897/897 [==============================] - 2s - loss: 0.0117 - val_loss: 0.0255\n",
      "Epoch 53/100\n",
      "897/897 [==============================] - 2s - loss: 0.0117 - val_loss: 0.0255\n",
      "Epoch 54/100\n",
      "897/897 [==============================] - 2s - loss: 0.0117 - val_loss: 0.0256ss: 0\n",
      "Epoch 55/100\n",
      "897/897 [==============================] - 2s - loss: 0.0117 - val_loss: 0.0256\n",
      "Epoch 56/100\n",
      "897/897 [==============================] - 2s - loss: 0.0117 - val_loss: 0.0256\n",
      "Epoch 57/100\n",
      "897/897 [==============================] - 2s - loss: 0.0117 - val_loss: 0.0257\n",
      "Epoch 58/100\n",
      "897/897 [==============================] - 2s - loss: 0.0117 - val_loss: 0.0257\n",
      "Epoch 59/100\n",
      "897/897 [==============================] - 2s - loss: 0.0117 - val_loss: 0.0257\n",
      "Epoch 60/100\n",
      "897/897 [==============================] - 2s - loss: 0.0117 - val_loss: 0.0257\n",
      "Epoch 61/100\n",
      "897/897 [==============================] - 2s - loss: 0.0117 - val_loss: 0.0258\n",
      "Epoch 62/100\n",
      "897/897 [==============================] - 2s - loss: 0.0117 - val_loss: 0.0258\n",
      "Epoch 63/100\n",
      "897/897 [==============================] - 2s - loss: 0.0117 - val_loss: 0.0258\n",
      "Epoch 64/100\n",
      "897/897 [==============================] - 2s - loss: 0.0117 - val_loss: 0.0259\n",
      "Epoch 65/100\n",
      "897/897 [==============================] - 2s - loss: 0.0117 - val_loss: 0.0259\n",
      "Epoch 66/100\n",
      "897/897 [==============================] - 2s - loss: 0.0117 - val_loss: 0.0259\n",
      "Epoch 67/100\n",
      "897/897 [==============================] - 2s - loss: 0.0117 - val_loss: 0.0260\n",
      "Epoch 68/100\n",
      "897/897 [==============================] - 2s - loss: 0.0117 - val_loss: 0.0260\n",
      "Epoch 69/100\n",
      "897/897 [==============================] - 2s - loss: 0.0117 - val_loss: 0.0260\n",
      "Epoch 70/100\n",
      "897/897 [==============================] - 2s - loss: 0.0116 - val_loss: 0.0261ss: 0\n",
      "Epoch 71/100\n",
      "897/897 [==============================] - 2s - loss: 0.0117 - val_loss: 0.0261\n",
      "Epoch 72/100\n",
      "897/897 [==============================] - 2s - loss: 0.0117 - val_loss: 0.0261\n",
      "Epoch 73/100\n",
      "897/897 [==============================] - 2s - loss: 0.0116 - val_loss: 0.0261\n",
      "Epoch 74/100\n",
      "897/897 [==============================] - 2s - loss: 0.0117 - val_loss: 0.0262\n",
      "Epoch 75/100\n",
      "897/897 [==============================] - 2s - loss: 0.0117 - val_loss: 0.0262\n",
      "Epoch 76/100\n",
      "897/897 [==============================] - 2s - loss: 0.0117 - val_loss: 0.0262\n",
      "Epoch 77/100\n",
      "897/897 [==============================] - 2s - loss: 0.0116 - val_loss: 0.0263\n",
      "Epoch 78/100\n",
      "897/897 [==============================] - 2s - loss: 0.0117 - val_loss: 0.0263\n",
      "Epoch 79/100\n",
      "897/897 [==============================] - 2s - loss: 0.0116 - val_loss: 0.0263\n",
      "Epoch 80/100\n",
      "897/897 [==============================] - 2s - loss: 0.0116 - val_loss: 0.0263\n",
      "Epoch 81/100\n",
      "897/897 [==============================] - ETA: 0s - loss: 0.011 - 2s - loss: 0.0116 - val_loss: 0.0263\n",
      "Epoch 82/100\n",
      "897/897 [==============================] - 2s - loss: 0.0116 - val_loss: 0.0263\n",
      "Epoch 83/100\n",
      "897/897 [==============================] - 2s - loss: 0.0116 - val_loss: 0.0264\n",
      "Epoch 84/100\n",
      "897/897 [==============================] - 2s - loss: 0.0116 - val_loss: 0.0264\n",
      "Epoch 85/100\n",
      "897/897 [==============================] - 2s - loss: 0.0116 - val_loss: 0.0264\n",
      "Epoch 86/100\n",
      "897/897 [==============================] - 2s - loss: 0.0116 - val_loss: 0.0264\n",
      "Epoch 87/100\n",
      "897/897 [==============================] - 2s - loss: 0.0116 - val_loss: 0.0264\n",
      "Epoch 88/100\n"
     ]
    },
    {
     "name": "stdout",
     "output_type": "stream",
     "text": [
      "897/897 [==============================] - 2s - loss: 0.0116 - val_loss: 0.0265\n",
      "Epoch 89/100\n",
      "897/897 [==============================] - 2s - loss: 0.0116 - val_loss: 0.0265\n",
      "Epoch 90/100\n",
      "897/897 [==============================] - 2s - loss: 0.0116 - val_loss: 0.0265\n",
      "Epoch 91/100\n",
      "897/897 [==============================] - 2s - loss: 0.0116 - val_loss: 0.0265\n",
      "Epoch 92/100\n",
      "897/897 [==============================] - 2s - loss: 0.0116 - val_loss: 0.0265ss: 0.011\n",
      "Epoch 93/100\n",
      "897/897 [==============================] - 2s - loss: 0.0116 - val_loss: 0.0265\n",
      "Epoch 94/100\n",
      "897/897 [==============================] - 2s - loss: 0.0116 - val_loss: 0.0265\n",
      "Epoch 95/100\n",
      "897/897 [==============================] - 2s - loss: 0.0116 - val_loss: 0.0265\n",
      "Epoch 96/100\n",
      "897/897 [==============================] - 2s - loss: 0.0116 - val_loss: 0.0265\n",
      "Epoch 97/100\n",
      "897/897 [==============================] - 2s - loss: 0.0116 - val_loss: 0.0265\n",
      "Epoch 98/100\n",
      "897/897 [==============================] - 2s - loss: 0.0116 - val_loss: 0.0265\n",
      "Epoch 99/100\n",
      "897/897 [==============================] - 2s - loss: 0.0116 - val_loss: 0.0265\n",
      "Epoch 100/100\n",
      "897/897 [==============================] - 2s - loss: 0.0116 - val_loss: 0.0265\n"
     ]
    }
   ],
   "source": [
    "# design network\n",
    "model = Sequential()\n",
    "model.add(LSTM(28, input_shape=(X_train.shape[1], X_train.shape[2]), recurrent_dropout=0.25, return_sequences=True))\n",
    "model.add(LSTM(14, recurrent_dropout=0.25, return_sequences=True))\n",
    "model.add(LSTM(7, recurrent_dropout=0.15))\n",
    "model.add(Dense(5))\n",
    "model.add(Dense(1))\n",
    "model.compile(loss='mse', optimizer='adam')\n",
    "\n",
    "# fit the network\n",
    "history = model.fit(X_train, y_train, epochs=100, batch_size=7, validation_data=(X_test, y_test),\n",
    "                    verbose=1, shuffle=False)"
   ]
  },
  {
   "cell_type": "code",
   "execution_count": 32,
   "metadata": {},
   "outputs": [
    {
     "data": {
      "image/png": "[encoded data removed]",
      "text/plain": [
       "<matplotlib.figure.Figure at 0x7f861e3144e0>"
      ]
     },
     "metadata": {},
     "output_type": "display_data"
    }
   ],
   "source": [
    "# plot history\n",
    "plt.figure(figsize=(10, 10))\n",
    "plt.plot(history.history['loss'], label='train')\n",
    "plt.plot(history.history['val_loss'], label='test')\n",
    "plt.legend()\n",
    "plt.show()"
   ]
  },
  {
   "cell_type": "code",
   "execution_count": 33,
   "metadata": {},
   "outputs": [
    {
     "data": {
      "text/plain": [
       "<matplotlib.axes._subplots.AxesSubplot at 0x7f85cc61df98>"
      ]
     },
     "execution_count": 33,
     "metadata": {},
     "output_type": "execute_result"
    },
    {
     "data": {
      "image/png": "[encoded data removed]",
      "text/plain": [
       "<matplotlib.figure.Figure at 0x7f85c85c81d0>"
      ]
     },
     "metadata": {},
     "output_type": "display_data"
    }
   ],
   "source": [
    "y_pred = model.predict(X_test, batch_size=10)\n",
    "# y_pred = scaler.inverse_transform(y_pred)\n",
    "test2 = pd.DataFrame(test.values, columns=test.columns, index=test.index)\n",
    "test2.loc[:, 'K11'] = y_pred\n",
    "\n",
    "test2 = pd.DataFrame(scaler.inverse_transform(test2), columns=test.columns, index=test.index)\n",
    "\n",
    "y_pred = test2['K11']\n",
    "# y_pred\n",
    "\n",
    "# finals = pd.DataFrame(pd.concat([df['K11'], y_pred], axis=1))\n",
    "finals = pd.DataFrame(pd.concat([new_k11, y_pred], axis=1))\n",
    "finals.columns = ['K11', 'K11 pred']\n",
    "finals[finals.index >= '2017-08-15'].plot(figsize=(16,8))"
   ]
  },
  {
   "cell_type": "code",
   "execution_count": 34,
   "metadata": {},
   "outputs": [
    {
     "data": {
      "text/html": [
       "<div>\n",
       "<style>\n",
       "    .dataframe thead tr:only-child th {\n",
       "        text-align: right;\n",
       "    }\n",
       "\n",
       "    .dataframe thead th {\n",
       "        text-align: left;\n",
       "    }\n",
       "\n",
       "    .dataframe tbody tr th {\n",
       "        vertical-align: top;\n",
       "    }\n",
       "</style>\n",
       "<table border=\"1\" class=\"dataframe\">\n",
       "  <thead>\n",
       "    <tr style=\"text-align: right;\">\n",
       "      <th></th>\n",
       "      <th>K11_s</th>\n",
       "    </tr>\n",
       "    <tr>\n",
       "      <th>Date</th>\n",
       "      <th></th>\n",
       "    </tr>\n",
       "  </thead>\n",
       "  <tbody>\n",
       "    <tr>\n",
       "      <th>2015-03-16</th>\n",
       "      <td>0.015298</td>\n",
       "    </tr>\n",
       "    <tr>\n",
       "      <th>2015-03-17</th>\n",
       "      <td>0.009471</td>\n",
       "    </tr>\n",
       "    <tr>\n",
       "      <th>2015-03-18</th>\n",
       "      <td>0.004499</td>\n",
       "    </tr>\n",
       "    <tr>\n",
       "      <th>2015-03-19</th>\n",
       "      <td>0.004332</td>\n",
       "    </tr>\n",
       "    <tr>\n",
       "      <th>2015-03-20</th>\n",
       "      <td>0.002295</td>\n",
       "    </tr>\n",
       "  </tbody>\n",
       "</table>\n",
       "</div>"
      ],
      "text/plain": [
       "               K11_s\n",
       "Date                \n",
       "2015-03-16  0.015298\n",
       "2015-03-17  0.009471\n",
       "2015-03-18  0.004499\n",
       "2015-03-19  0.004332\n",
       "2015-03-20  0.002295"
      ]
     },
     "execution_count": 34,
     "metadata": {},
     "output_type": "execute_result"
    }
   ],
   "source": [
    "seasonald = pd.DataFrame(decomp.seasonal)\n",
    "seasonald.columns = ['K11_s']\n",
    "seasonald.head()\n",
    "# finals['K11b'] = ''\n",
    "# finals['K11 pred b'] = ''\n",
    "# finals['K11b'] = finals['K11'] + seasonald\n",
    "# finals['K11 pred b'] = finals['K11 pred'] + seasonald"
   ]
  },
  {
   "cell_type": "code",
   "execution_count": 35,
   "metadata": {},
   "outputs": [
    {
     "data": {
      "text/html": [
       "<div>\n",
       "<style>\n",
       "    .dataframe thead tr:only-child th {\n",
       "        text-align: right;\n",
       "    }\n",
       "\n",
       "    .dataframe thead th {\n",
       "        text-align: left;\n",
       "    }\n",
       "\n",
       "    .dataframe tbody tr th {\n",
       "        vertical-align: top;\n",
       "    }\n",
       "</style>\n",
       "<table border=\"1\" class=\"dataframe\">\n",
       "  <thead>\n",
       "    <tr style=\"text-align: right;\">\n",
       "      <th></th>\n",
       "      <th>K11</th>\n",
       "      <th>K11 pred</th>\n",
       "      <th>K11_s</th>\n",
       "    </tr>\n",
       "    <tr>\n",
       "      <th>Date</th>\n",
       "      <th></th>\n",
       "      <th></th>\n",
       "      <th></th>\n",
       "    </tr>\n",
       "  </thead>\n",
       "  <tbody>\n",
       "    <tr>\n",
       "      <th>2015-03-16</th>\n",
       "      <td>0.272384</td>\n",
       "      <td>NaN</td>\n",
       "      <td>0.015298</td>\n",
       "    </tr>\n",
       "    <tr>\n",
       "      <th>2015-03-17</th>\n",
       "      <td>0.253819</td>\n",
       "      <td>NaN</td>\n",
       "      <td>0.009471</td>\n",
       "    </tr>\n",
       "    <tr>\n",
       "      <th>2015-03-18</th>\n",
       "      <td>0.248950</td>\n",
       "      <td>NaN</td>\n",
       "      <td>0.004499</td>\n",
       "    </tr>\n",
       "    <tr>\n",
       "      <th>2015-03-19</th>\n",
       "      <td>0.321884</td>\n",
       "      <td>NaN</td>\n",
       "      <td>0.004332</td>\n",
       "    </tr>\n",
       "    <tr>\n",
       "      <th>2015-03-20</th>\n",
       "      <td>0.515648</td>\n",
       "      <td>NaN</td>\n",
       "      <td>0.002295</td>\n",
       "    </tr>\n",
       "  </tbody>\n",
       "</table>\n",
       "</div>"
      ],
      "text/plain": [
       "                 K11  K11 pred     K11_s\n",
       "Date                                    \n",
       "2015-03-16  0.272384       NaN  0.015298\n",
       "2015-03-17  0.253819       NaN  0.009471\n",
       "2015-03-18  0.248950       NaN  0.004499\n",
       "2015-03-19  0.321884       NaN  0.004332\n",
       "2015-03-20  0.515648       NaN  0.002295"
      ]
     },
     "execution_count": 35,
     "metadata": {},
     "output_type": "execute_result"
    }
   ],
   "source": [
    "finals = pd.concat([finals, seasonald], axis=1)\n",
    "finals.head()"
   ]
  },
  {
   "cell_type": "code",
   "execution_count": 36,
   "metadata": {},
   "outputs": [
    {
     "data": {
      "text/html": [
       "<div>\n",
       "<style>\n",
       "    .dataframe thead tr:only-child th {\n",
       "        text-align: right;\n",
       "    }\n",
       "\n",
       "    .dataframe thead th {\n",
       "        text-align: left;\n",
       "    }\n",
       "\n",
       "    .dataframe tbody tr th {\n",
       "        vertical-align: top;\n",
       "    }\n",
       "</style>\n",
       "<table border=\"1\" class=\"dataframe\">\n",
       "  <thead>\n",
       "    <tr style=\"text-align: right;\">\n",
       "      <th></th>\n",
       "      <th>K11</th>\n",
       "      <th>K11 pred</th>\n",
       "      <th>K11_s</th>\n",
       "      <th>K11_new</th>\n",
       "      <th>K11p_new</th>\n",
       "    </tr>\n",
       "    <tr>\n",
       "      <th>Date</th>\n",
       "      <th></th>\n",
       "      <th></th>\n",
       "      <th></th>\n",
       "      <th></th>\n",
       "      <th></th>\n",
       "    </tr>\n",
       "  </thead>\n",
       "  <tbody>\n",
       "    <tr>\n",
       "      <th>2017-09-28</th>\n",
       "      <td>0.113067</td>\n",
       "      <td>0.155988</td>\n",
       "      <td>0.004332</td>\n",
       "      <td>0.117398</td>\n",
       "      <td>0.160320</td>\n",
       "    </tr>\n",
       "    <tr>\n",
       "      <th>2017-09-29</th>\n",
       "      <td>0.078285</td>\n",
       "      <td>0.161579</td>\n",
       "      <td>0.002295</td>\n",
       "      <td>0.080580</td>\n",
       "      <td>0.163875</td>\n",
       "    </tr>\n",
       "    <tr>\n",
       "      <th>2017-09-30</th>\n",
       "      <td>0.098834</td>\n",
       "      <td>0.156125</td>\n",
       "      <td>-0.013373</td>\n",
       "      <td>0.085461</td>\n",
       "      <td>0.142752</td>\n",
       "    </tr>\n",
       "    <tr>\n",
       "      <th>2017-10-01</th>\n",
       "      <td>0.123618</td>\n",
       "      <td>0.158755</td>\n",
       "      <td>-0.022522</td>\n",
       "      <td>0.101096</td>\n",
       "      <td>0.136233</td>\n",
       "    </tr>\n",
       "    <tr>\n",
       "      <th>2017-10-02</th>\n",
       "      <td>0.104204</td>\n",
       "      <td>0.162758</td>\n",
       "      <td>0.015298</td>\n",
       "      <td>0.119502</td>\n",
       "      <td>0.178056</td>\n",
       "    </tr>\n",
       "  </tbody>\n",
       "</table>\n",
       "</div>"
      ],
      "text/plain": [
       "                 K11  K11 pred     K11_s   K11_new  K11p_new\n",
       "Date                                                        \n",
       "2017-09-28  0.113067  0.155988  0.004332  0.117398  0.160320\n",
       "2017-09-29  0.078285  0.161579  0.002295  0.080580  0.163875\n",
       "2017-09-30  0.098834  0.156125 -0.013373  0.085461  0.142752\n",
       "2017-10-01  0.123618  0.158755 -0.022522  0.101096  0.136233\n",
       "2017-10-02  0.104204  0.162758  0.015298  0.119502  0.178056"
      ]
     },
     "execution_count": 36,
     "metadata": {},
     "output_type": "execute_result"
    }
   ],
   "source": [
    "finals['K11_new'] = finals['K11'] + finals['K11_s']\n",
    "finals['K11p_new'] = finals['K11 pred'] + finals['K11_s']\n",
    "finals.tail()"
   ]
  },
  {
   "cell_type": "code",
   "execution_count": 39,
   "metadata": {},
   "outputs": [
    {
     "data": {
      "text/html": [
       "<div>\n",
       "<style>\n",
       "    .dataframe thead tr:only-child th {\n",
       "        text-align: right;\n",
       "    }\n",
       "\n",
       "    .dataframe thead th {\n",
       "        text-align: left;\n",
       "    }\n",
       "\n",
       "    .dataframe tbody tr th {\n",
       "        vertical-align: top;\n",
       "    }\n",
       "</style>\n",
       "<table border=\"1\" class=\"dataframe\">\n",
       "  <thead>\n",
       "    <tr style=\"text-align: right;\">\n",
       "      <th></th>\n",
       "      <th>K11_new</th>\n",
       "      <th>K11p_new</th>\n",
       "    </tr>\n",
       "    <tr>\n",
       "      <th>Date</th>\n",
       "      <th></th>\n",
       "      <th></th>\n",
       "    </tr>\n",
       "  </thead>\n",
       "  <tbody>\n",
       "    <tr>\n",
       "      <th>2015-03-16</th>\n",
       "      <td>0.333333</td>\n",
       "      <td>NaN</td>\n",
       "    </tr>\n",
       "    <tr>\n",
       "      <th>2015-03-17</th>\n",
       "      <td>0.301205</td>\n",
       "      <td>NaN</td>\n",
       "    </tr>\n",
       "    <tr>\n",
       "      <th>2015-03-18</th>\n",
       "      <td>0.288462</td>\n",
       "      <td>NaN</td>\n",
       "    </tr>\n",
       "    <tr>\n",
       "      <th>2015-03-19</th>\n",
       "      <td>0.385714</td>\n",
       "      <td>NaN</td>\n",
       "    </tr>\n",
       "    <tr>\n",
       "      <th>2015-03-20</th>\n",
       "      <td>0.678571</td>\n",
       "      <td>NaN</td>\n",
       "    </tr>\n",
       "  </tbody>\n",
       "</table>\n",
       "</div>"
      ],
      "text/plain": [
       "             K11_new  K11p_new\n",
       "Date                          \n",
       "2015-03-16  0.333333       NaN\n",
       "2015-03-17  0.301205       NaN\n",
       "2015-03-18  0.288462       NaN\n",
       "2015-03-19  0.385714       NaN\n",
       "2015-03-20  0.678571       NaN"
      ]
     },
     "execution_count": 39,
     "metadata": {},
     "output_type": "execute_result"
    }
   ],
   "source": [
    "finals_exp.head()"
   ]
  },
  {
   "cell_type": "code",
   "execution_count": 41,
   "metadata": {
    "scrolled": false
   },
   "outputs": [
    {
     "data": {
      "text/plain": [
       "<matplotlib.axes._subplots.AxesSubplot at 0x7f85c07b9b70>"
      ]
     },
     "execution_count": 41,
     "metadata": {},
     "output_type": "execute_result"
    },
    {
     "data": {
      "image/png": "[encoded data removed]",
      "text/plain": [
       "<matplotlib.figure.Figure at 0x7f85c07c5588>"
      ]
     },
     "metadata": {},
     "output_type": "display_data"
    }
   ],
   "source": [
    "finals_exp = np.exp(finals[['K11_new', 'K11p_new']]) - 1\n",
    "# finals_exp\n",
    "finals_exp.columns = ['K11', 'K11 pred']\n",
    "finals_exp[finals_exp.index >= '2017-08-15'].plot(figsize=(16,8))"
   ]
  },
  {
   "cell_type": "code",
   "execution_count": 42,
   "metadata": {},
   "outputs": [
    {
     "name": "stderr",
     "output_type": "stream",
     "text": [
      "/usr/lib/python3.4/site-packages/ipykernel_launcher.py:2: SettingWithCopyWarning: \n",
      "A value is trying to be set on a copy of a slice from a DataFrame.\n",
      "Try using .loc[row_indexer,col_indexer] = value instead\n",
      "\n",
      "See the caveats in the documentation: http://pandas.pydata.org/pandas-docs/stable/indexing.html#indexing-view-versus-copy\n",
      "  \n"
     ]
    },
    {
     "data": {
      "text/plain": [
       "0.77508037127711893"
      ]
     },
     "execution_count": 42,
     "metadata": {},
     "output_type": "execute_result"
    }
   ],
   "source": [
    "y_values = finals_exp[finals_exp['K11 pred'].notnull()]\n",
    "y_values['perc_error'] = abs(y_values['K11'] - y_values['K11 pred'])/abs(y_values['K11'])\n",
    "y_values['perc_error'].mean()"
   ]
  },
  {
   "cell_type": "code",
   "execution_count": 43,
   "metadata": {},
   "outputs": [
    {
     "data": {
      "text/plain": [
       "45.815325807320043"
      ]
     },
     "execution_count": 43,
     "metadata": {},
     "output_type": "execute_result"
    }
   ],
   "source": [
    "def smape(y_true, y_pred):\n",
    "    denominator = (np.abs(y_true) + np.abs(y_pred))\n",
    "    diff = np.abs(y_true - y_pred) / denominator\n",
    "    diff[denominator == 0] = 0.0\n",
    "    return 200 * np.mean(diff)\n",
    "\n",
    "smape(y_values['K11'], y_values['K11 pred'])"
   ]
  }
 ],
 "metadata": {
  "kernelspec": {
   "display_name": "Python 3",
   "language": "python",
   "name": "python3"
  },
  "language_info": {
   "codemirror_mode": {
    "name": "ipython",
    "version": 3
   },
   "file_extension": ".py",
   "mimetype": "text/x-python",
   "name": "python",
   "nbconvert_exporter": "python",
   "pygments_lexer": "ipython3",
   "version": "3.4.5"
  }
 },
 "nbformat": 4,
 "nbformat_minor": 2
}
