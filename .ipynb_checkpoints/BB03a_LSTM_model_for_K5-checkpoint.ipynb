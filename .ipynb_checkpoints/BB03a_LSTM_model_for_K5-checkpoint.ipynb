{
 "cells": [
  {
   "cell_type": "code",
   "execution_count": 1,
   "metadata": {
    "collapsed": true
   },
   "outputs": [],
   "source": [
    "import os\n",
    "import numpy as np\n",
    "import pandas as pd\n",
    "import matplotlib.pyplot as plt\n",
    "%matplotlib inline"
   ]
  },
  {
   "cell_type": "code",
   "execution_count": 2,
   "metadata": {},
   "outputs": [
    {
     "data": {
      "text/plain": [
       "'/nfs/science/shared/ipythonNotebooks/leom/Kaggle/BB/data'"
      ]
     },
     "execution_count": 2,
     "metadata": {},
     "output_type": "execute_result"
    }
   ],
   "source": [
    "data_path = os.path.join(os.getcwd(), 'data')\n",
    "data_path"
   ]
  },
  {
   "cell_type": "code",
   "execution_count": 3,
   "metadata": {
    "collapsed": true
   },
   "outputs": [],
   "source": [
    "df_kpis = pd.read_excel(os.path.join(data_path, 'analisi.xlsx'), sheetname='KPIs')\n",
    "df_spending = pd.read_excel(os.path.join(data_path, 'analisi.xlsx'), sheetname='Spending')"
   ]
  },
  {
   "cell_type": "code",
   "execution_count": 4,
   "metadata": {
    "collapsed": true
   },
   "outputs": [],
   "source": [
    "df_kpis.sort_values(by='Date', inplace=True)\n",
    "df_spending.sort_values(by='Date', inplace=True)\n",
    "\n",
    "# Drop K11, because it's another response variable\n",
    "df_kpis.drop('K11', axis=1, inplace=True)"
   ]
  },
  {
   "cell_type": "code",
   "execution_count": 5,
   "metadata": {},
   "outputs": [
    {
     "name": "stdout",
     "output_type": "stream",
     "text": [
      "<class 'pandas.core.frame.DataFrame'>\n",
      "Int64Index: 932 entries, 0 to 931\n",
      "Data columns (total 11 columns):\n",
      "Date    932 non-null datetime64[ns]\n",
      "K1      932 non-null int64\n",
      "K2      932 non-null int64\n",
      "K3      932 non-null int64\n",
      "K4      932 non-null int64\n",
      "K5      932 non-null int64\n",
      "K6      932 non-null int64\n",
      "K7      932 non-null int64\n",
      "K8      932 non-null int64\n",
      "K9      932 non-null float64\n",
      "K10     932 non-null float64\n",
      "dtypes: datetime64[ns](1), float64(2), int64(8)\n",
      "memory usage: 87.4 KB\n"
     ]
    }
   ],
   "source": [
    "# Date metric\n",
    "df_kpis.info()"
   ]
  },
  {
   "cell_type": "code",
   "execution_count": 6,
   "metadata": {
    "collapsed": true
   },
   "outputs": [],
   "source": [
    "df_kpis['month'] = df_kpis['Date'].dt.month\n",
    "df_kpis['year'] = df_kpis['Date'].dt.year\n",
    "df_kpis['weekday'] = df_kpis['Date'].dt.weekday\n",
    "df_kpis['days_in_month'] = df_kpis['Date'].dt.daysinmonth"
   ]
  },
  {
   "cell_type": "code",
   "execution_count": 7,
   "metadata": {
    "collapsed": true
   },
   "outputs": [],
   "source": [
    "df_kpis_date = df_kpis['Date']\n",
    "df_kpis.index = df_kpis_date\n",
    "df_kpis.drop('Date', axis=1, inplace=True)"
   ]
  },
  {
   "cell_type": "code",
   "execution_count": 8,
   "metadata": {},
   "outputs": [
    {
     "data": {
      "text/html": [
       "<div>\n",
       "<style>\n",
       "    .dataframe thead tr:only-child th {\n",
       "        text-align: right;\n",
       "    }\n",
       "\n",
       "    .dataframe thead th {\n",
       "        text-align: left;\n",
       "    }\n",
       "\n",
       "    .dataframe tbody tr th {\n",
       "        vertical-align: top;\n",
       "    }\n",
       "</style>\n",
       "<table border=\"1\" class=\"dataframe\">\n",
       "  <thead>\n",
       "    <tr style=\"text-align: right;\">\n",
       "      <th></th>\n",
       "      <th>K1</th>\n",
       "      <th>K2</th>\n",
       "      <th>K3</th>\n",
       "      <th>K4</th>\n",
       "      <th>K5</th>\n",
       "      <th>K6</th>\n",
       "      <th>K7</th>\n",
       "      <th>K8</th>\n",
       "      <th>K9</th>\n",
       "      <th>K10</th>\n",
       "      <th>month</th>\n",
       "      <th>year</th>\n",
       "      <th>weekday</th>\n",
       "      <th>days_in_month</th>\n",
       "    </tr>\n",
       "    <tr>\n",
       "      <th>Date</th>\n",
       "      <th></th>\n",
       "      <th></th>\n",
       "      <th></th>\n",
       "      <th></th>\n",
       "      <th></th>\n",
       "      <th></th>\n",
       "      <th></th>\n",
       "      <th></th>\n",
       "      <th></th>\n",
       "      <th></th>\n",
       "      <th></th>\n",
       "      <th></th>\n",
       "      <th></th>\n",
       "      <th></th>\n",
       "    </tr>\n",
       "  </thead>\n",
       "  <tbody>\n",
       "    <tr>\n",
       "      <th>2015-03-16</th>\n",
       "      <td>0</td>\n",
       "      <td>0</td>\n",
       "      <td>155</td>\n",
       "      <td>0</td>\n",
       "      <td>194</td>\n",
       "      <td>379</td>\n",
       "      <td>195</td>\n",
       "      <td>923</td>\n",
       "      <td>3.030303</td>\n",
       "      <td>0.210184</td>\n",
       "      <td>3</td>\n",
       "      <td>2015</td>\n",
       "      <td>0</td>\n",
       "      <td>31</td>\n",
       "    </tr>\n",
       "    <tr>\n",
       "      <th>2015-03-17</th>\n",
       "      <td>1</td>\n",
       "      <td>8</td>\n",
       "      <td>1074</td>\n",
       "      <td>34</td>\n",
       "      <td>1320</td>\n",
       "      <td>658</td>\n",
       "      <td>468</td>\n",
       "      <td>3563</td>\n",
       "      <td>4.532667</td>\n",
       "      <td>0.370474</td>\n",
       "      <td>3</td>\n",
       "      <td>2015</td>\n",
       "      <td>1</td>\n",
       "      <td>31</td>\n",
       "    </tr>\n",
       "    <tr>\n",
       "      <th>2015-03-18</th>\n",
       "      <td>0</td>\n",
       "      <td>10</td>\n",
       "      <td>1129</td>\n",
       "      <td>46</td>\n",
       "      <td>1349</td>\n",
       "      <td>652</td>\n",
       "      <td>493</td>\n",
       "      <td>3679</td>\n",
       "      <td>4.902364</td>\n",
       "      <td>0.366676</td>\n",
       "      <td>3</td>\n",
       "      <td>2015</td>\n",
       "      <td>2</td>\n",
       "      <td>31</td>\n",
       "    </tr>\n",
       "    <tr>\n",
       "      <th>2015-03-19</th>\n",
       "      <td>0</td>\n",
       "      <td>7</td>\n",
       "      <td>1107</td>\n",
       "      <td>33</td>\n",
       "      <td>1251</td>\n",
       "      <td>597</td>\n",
       "      <td>522</td>\n",
       "      <td>3517</td>\n",
       "      <td>4.775744</td>\n",
       "      <td>0.355701</td>\n",
       "      <td>3</td>\n",
       "      <td>2015</td>\n",
       "      <td>3</td>\n",
       "      <td>31</td>\n",
       "    </tr>\n",
       "    <tr>\n",
       "      <th>2015-03-20</th>\n",
       "      <td>0</td>\n",
       "      <td>13</td>\n",
       "      <td>1116</td>\n",
       "      <td>143</td>\n",
       "      <td>1484</td>\n",
       "      <td>606</td>\n",
       "      <td>453</td>\n",
       "      <td>3815</td>\n",
       "      <td>4.228381</td>\n",
       "      <td>0.388991</td>\n",
       "      <td>3</td>\n",
       "      <td>2015</td>\n",
       "      <td>4</td>\n",
       "      <td>31</td>\n",
       "    </tr>\n",
       "  </tbody>\n",
       "</table>\n",
       "</div>"
      ],
      "text/plain": [
       "            K1  K2    K3   K4    K5   K6   K7    K8        K9       K10  \\\n",
       "Date                                                                      \n",
       "2015-03-16   0   0   155    0   194  379  195   923  3.030303  0.210184   \n",
       "2015-03-17   1   8  1074   34  1320  658  468  3563  4.532667  0.370474   \n",
       "2015-03-18   0  10  1129   46  1349  652  493  3679  4.902364  0.366676   \n",
       "2015-03-19   0   7  1107   33  1251  597  522  3517  4.775744  0.355701   \n",
       "2015-03-20   0  13  1116  143  1484  606  453  3815  4.228381  0.388991   \n",
       "\n",
       "            month  year  weekday  days_in_month  \n",
       "Date                                             \n",
       "2015-03-16      3  2015        0             31  \n",
       "2015-03-17      3  2015        1             31  \n",
       "2015-03-18      3  2015        2             31  \n",
       "2015-03-19      3  2015        3             31  \n",
       "2015-03-20      3  2015        4             31  "
      ]
     },
     "execution_count": 8,
     "metadata": {},
     "output_type": "execute_result"
    }
   ],
   "source": [
    "df_kpis.head()"
   ]
  },
  {
   "cell_type": "code",
   "execution_count": 9,
   "metadata": {
    "collapsed": true
   },
   "outputs": [],
   "source": [
    "df_spending['month'] = df_spending['Date'].dt.month\n",
    "df_spending['year'] = df_spending['Date'].dt.year\n",
    "df_spending['days_in_month'] = df_spending['Date'].dt.daysinmonth\n",
    "df_spending.index = df_spending['Date']\n",
    "df_spending.drop('Date', axis=1, inplace=True)"
   ]
  },
  {
   "cell_type": "code",
   "execution_count": 10,
   "metadata": {
    "collapsed": true
   },
   "outputs": [],
   "source": [
    "df_spending['avgE1'] = df_spending['E1']/df_spending['days_in_month']\n",
    "df_spending['avgE2'] = df_spending['E2']/df_spending['days_in_month']"
   ]
  },
  {
   "cell_type": "code",
   "execution_count": 11,
   "metadata": {
    "collapsed": true
   },
   "outputs": [],
   "source": [
    "df_kpis = df_kpis.merge(df_spending[['year', 'month', 'avgE1', 'avgE2']], on=['year', 'month'],\n",
    "                        how='inner')\n",
    "df_kpis.index = df_kpis_date"
   ]
  },
  {
   "cell_type": "code",
   "execution_count": 12,
   "metadata": {},
   "outputs": [
    {
     "data": {
      "text/html": [
       "<div>\n",
       "<style>\n",
       "    .dataframe thead tr:only-child th {\n",
       "        text-align: right;\n",
       "    }\n",
       "\n",
       "    .dataframe thead th {\n",
       "        text-align: left;\n",
       "    }\n",
       "\n",
       "    .dataframe tbody tr th {\n",
       "        vertical-align: top;\n",
       "    }\n",
       "</style>\n",
       "<table border=\"1\" class=\"dataframe\">\n",
       "  <thead>\n",
       "    <tr style=\"text-align: right;\">\n",
       "      <th></th>\n",
       "      <th>K1</th>\n",
       "      <th>K2</th>\n",
       "      <th>K3</th>\n",
       "      <th>K4</th>\n",
       "      <th>K5</th>\n",
       "      <th>K6</th>\n",
       "      <th>K7</th>\n",
       "      <th>K8</th>\n",
       "      <th>K9</th>\n",
       "      <th>K10</th>\n",
       "      <th>month</th>\n",
       "      <th>year</th>\n",
       "      <th>weekday</th>\n",
       "      <th>days_in_month</th>\n",
       "      <th>avgE1</th>\n",
       "      <th>avgE2</th>\n",
       "    </tr>\n",
       "    <tr>\n",
       "      <th>Date</th>\n",
       "      <th></th>\n",
       "      <th></th>\n",
       "      <th></th>\n",
       "      <th></th>\n",
       "      <th></th>\n",
       "      <th></th>\n",
       "      <th></th>\n",
       "      <th></th>\n",
       "      <th></th>\n",
       "      <th></th>\n",
       "      <th></th>\n",
       "      <th></th>\n",
       "      <th></th>\n",
       "      <th></th>\n",
       "      <th></th>\n",
       "      <th></th>\n",
       "    </tr>\n",
       "  </thead>\n",
       "  <tbody>\n",
       "    <tr>\n",
       "      <th>2015-03-16</th>\n",
       "      <td>0</td>\n",
       "      <td>0</td>\n",
       "      <td>155</td>\n",
       "      <td>0</td>\n",
       "      <td>194</td>\n",
       "      <td>379</td>\n",
       "      <td>195</td>\n",
       "      <td>923</td>\n",
       "      <td>3.030303</td>\n",
       "      <td>0.210184</td>\n",
       "      <td>3</td>\n",
       "      <td>2015</td>\n",
       "      <td>0</td>\n",
       "      <td>31</td>\n",
       "      <td>530.129032</td>\n",
       "      <td>4403.387097</td>\n",
       "    </tr>\n",
       "    <tr>\n",
       "      <th>2015-03-17</th>\n",
       "      <td>1</td>\n",
       "      <td>8</td>\n",
       "      <td>1074</td>\n",
       "      <td>34</td>\n",
       "      <td>1320</td>\n",
       "      <td>658</td>\n",
       "      <td>468</td>\n",
       "      <td>3563</td>\n",
       "      <td>4.532667</td>\n",
       "      <td>0.370474</td>\n",
       "      <td>3</td>\n",
       "      <td>2015</td>\n",
       "      <td>1</td>\n",
       "      <td>31</td>\n",
       "      <td>530.129032</td>\n",
       "      <td>4403.387097</td>\n",
       "    </tr>\n",
       "    <tr>\n",
       "      <th>2015-03-18</th>\n",
       "      <td>0</td>\n",
       "      <td>10</td>\n",
       "      <td>1129</td>\n",
       "      <td>46</td>\n",
       "      <td>1349</td>\n",
       "      <td>652</td>\n",
       "      <td>493</td>\n",
       "      <td>3679</td>\n",
       "      <td>4.902364</td>\n",
       "      <td>0.366676</td>\n",
       "      <td>3</td>\n",
       "      <td>2015</td>\n",
       "      <td>2</td>\n",
       "      <td>31</td>\n",
       "      <td>530.129032</td>\n",
       "      <td>4403.387097</td>\n",
       "    </tr>\n",
       "    <tr>\n",
       "      <th>2015-03-19</th>\n",
       "      <td>0</td>\n",
       "      <td>7</td>\n",
       "      <td>1107</td>\n",
       "      <td>33</td>\n",
       "      <td>1251</td>\n",
       "      <td>597</td>\n",
       "      <td>522</td>\n",
       "      <td>3517</td>\n",
       "      <td>4.775744</td>\n",
       "      <td>0.355701</td>\n",
       "      <td>3</td>\n",
       "      <td>2015</td>\n",
       "      <td>3</td>\n",
       "      <td>31</td>\n",
       "      <td>530.129032</td>\n",
       "      <td>4403.387097</td>\n",
       "    </tr>\n",
       "    <tr>\n",
       "      <th>2015-03-20</th>\n",
       "      <td>0</td>\n",
       "      <td>13</td>\n",
       "      <td>1116</td>\n",
       "      <td>143</td>\n",
       "      <td>1484</td>\n",
       "      <td>606</td>\n",
       "      <td>453</td>\n",
       "      <td>3815</td>\n",
       "      <td>4.228381</td>\n",
       "      <td>0.388991</td>\n",
       "      <td>3</td>\n",
       "      <td>2015</td>\n",
       "      <td>4</td>\n",
       "      <td>31</td>\n",
       "      <td>530.129032</td>\n",
       "      <td>4403.387097</td>\n",
       "    </tr>\n",
       "  </tbody>\n",
       "</table>\n",
       "</div>"
      ],
      "text/plain": [
       "            K1  K2    K3   K4    K5   K6   K7    K8        K9       K10  \\\n",
       "Date                                                                      \n",
       "2015-03-16   0   0   155    0   194  379  195   923  3.030303  0.210184   \n",
       "2015-03-17   1   8  1074   34  1320  658  468  3563  4.532667  0.370474   \n",
       "2015-03-18   0  10  1129   46  1349  652  493  3679  4.902364  0.366676   \n",
       "2015-03-19   0   7  1107   33  1251  597  522  3517  4.775744  0.355701   \n",
       "2015-03-20   0  13  1116  143  1484  606  453  3815  4.228381  0.388991   \n",
       "\n",
       "            month  year  weekday  days_in_month       avgE1        avgE2  \n",
       "Date                                                                      \n",
       "2015-03-16      3  2015        0             31  530.129032  4403.387097  \n",
       "2015-03-17      3  2015        1             31  530.129032  4403.387097  \n",
       "2015-03-18      3  2015        2             31  530.129032  4403.387097  \n",
       "2015-03-19      3  2015        3             31  530.129032  4403.387097  \n",
       "2015-03-20      3  2015        4             31  530.129032  4403.387097  "
      ]
     },
     "execution_count": 12,
     "metadata": {},
     "output_type": "execute_result"
    }
   ],
   "source": [
    "df_kpis.head()"
   ]
  },
  {
   "cell_type": "code",
   "execution_count": 13,
   "metadata": {},
   "outputs": [
    {
     "data": {
      "text/plain": [
       "(932, 16)"
      ]
     },
     "execution_count": 13,
     "metadata": {},
     "output_type": "execute_result"
    }
   ],
   "source": [
    "df_kpis.shape"
   ]
  },
  {
   "cell_type": "code",
   "execution_count": 14,
   "metadata": {
    "collapsed": true
   },
   "outputs": [],
   "source": [
    "cols_list = [i for i in df_kpis.columns if i[0] == 'K']\n",
    "cols_list.append('avgE1')\n",
    "cols_list.append('avgE2')"
   ]
  },
  {
   "cell_type": "code",
   "execution_count": 15,
   "metadata": {},
   "outputs": [
    {
     "name": "stdout",
     "output_type": "stream",
     "text": [
      "['K1', 'K2', 'K3', 'K4', 'K5', 'K6', 'K7', 'K8', 'K9', 'K10', 'avgE1', 'avgE2']\n"
     ]
    }
   ],
   "source": [
    "print(cols_list)"
   ]
  },
  {
   "cell_type": "code",
   "execution_count": 16,
   "metadata": {},
   "outputs": [
    {
     "data": {
      "text/html": [
       "<div>\n",
       "<style>\n",
       "    .dataframe thead tr:only-child th {\n",
       "        text-align: right;\n",
       "    }\n",
       "\n",
       "    .dataframe thead th {\n",
       "        text-align: left;\n",
       "    }\n",
       "\n",
       "    .dataframe tbody tr th {\n",
       "        vertical-align: top;\n",
       "    }\n",
       "</style>\n",
       "<table border=\"1\" class=\"dataframe\">\n",
       "  <thead>\n",
       "    <tr style=\"text-align: right;\">\n",
       "      <th></th>\n",
       "      <th>K1</th>\n",
       "      <th>K2</th>\n",
       "      <th>K3</th>\n",
       "      <th>K4</th>\n",
       "      <th>K5</th>\n",
       "      <th>K6</th>\n",
       "      <th>K7</th>\n",
       "      <th>K8</th>\n",
       "      <th>K9</th>\n",
       "      <th>K10</th>\n",
       "      <th>avgE1</th>\n",
       "      <th>avgE2</th>\n",
       "    </tr>\n",
       "    <tr>\n",
       "      <th>Date</th>\n",
       "      <th></th>\n",
       "      <th></th>\n",
       "      <th></th>\n",
       "      <th></th>\n",
       "      <th></th>\n",
       "      <th></th>\n",
       "      <th></th>\n",
       "      <th></th>\n",
       "      <th></th>\n",
       "      <th></th>\n",
       "      <th></th>\n",
       "      <th></th>\n",
       "    </tr>\n",
       "  </thead>\n",
       "  <tbody>\n",
       "    <tr>\n",
       "      <th>2015-03-16</th>\n",
       "      <td>0.000000</td>\n",
       "      <td>0.000000</td>\n",
       "      <td>5.049856</td>\n",
       "      <td>0.000000</td>\n",
       "      <td>5.273000</td>\n",
       "      <td>5.940171</td>\n",
       "      <td>5.278115</td>\n",
       "      <td>6.828712</td>\n",
       "      <td>1.393842</td>\n",
       "      <td>0.190773</td>\n",
       "      <td>6.275005</td>\n",
       "      <td>8.390356</td>\n",
       "    </tr>\n",
       "    <tr>\n",
       "      <th>2015-03-17</th>\n",
       "      <td>0.693147</td>\n",
       "      <td>2.197225</td>\n",
       "      <td>6.980076</td>\n",
       "      <td>3.555348</td>\n",
       "      <td>7.186144</td>\n",
       "      <td>6.490724</td>\n",
       "      <td>6.150603</td>\n",
       "      <td>8.178639</td>\n",
       "      <td>1.710670</td>\n",
       "      <td>0.315157</td>\n",
       "      <td>6.275005</td>\n",
       "      <td>8.390356</td>\n",
       "    </tr>\n",
       "    <tr>\n",
       "      <th>2015-03-18</th>\n",
       "      <td>0.000000</td>\n",
       "      <td>2.397895</td>\n",
       "      <td>7.029973</td>\n",
       "      <td>3.850148</td>\n",
       "      <td>7.207860</td>\n",
       "      <td>6.481577</td>\n",
       "      <td>6.202536</td>\n",
       "      <td>8.210668</td>\n",
       "      <td>1.775353</td>\n",
       "      <td>0.312381</td>\n",
       "      <td>6.275005</td>\n",
       "      <td>8.390356</td>\n",
       "    </tr>\n",
       "    <tr>\n",
       "      <th>2015-03-19</th>\n",
       "      <td>0.000000</td>\n",
       "      <td>2.079442</td>\n",
       "      <td>7.010312</td>\n",
       "      <td>3.526361</td>\n",
       "      <td>7.132498</td>\n",
       "      <td>6.393591</td>\n",
       "      <td>6.259581</td>\n",
       "      <td>8.165648</td>\n",
       "      <td>1.753667</td>\n",
       "      <td>0.304319</td>\n",
       "      <td>6.275005</td>\n",
       "      <td>8.390356</td>\n",
       "    </tr>\n",
       "    <tr>\n",
       "      <th>2015-03-20</th>\n",
       "      <td>0.000000</td>\n",
       "      <td>2.639057</td>\n",
       "      <td>7.018402</td>\n",
       "      <td>4.969813</td>\n",
       "      <td>7.303170</td>\n",
       "      <td>6.408529</td>\n",
       "      <td>6.118097</td>\n",
       "      <td>8.246958</td>\n",
       "      <td>1.654102</td>\n",
       "      <td>0.328577</td>\n",
       "      <td>6.275005</td>\n",
       "      <td>8.390356</td>\n",
       "    </tr>\n",
       "  </tbody>\n",
       "</table>\n",
       "</div>"
      ],
      "text/plain": [
       "                  K1        K2        K3        K4        K5        K6  \\\n",
       "Date                                                                     \n",
       "2015-03-16  0.000000  0.000000  5.049856  0.000000  5.273000  5.940171   \n",
       "2015-03-17  0.693147  2.197225  6.980076  3.555348  7.186144  6.490724   \n",
       "2015-03-18  0.000000  2.397895  7.029973  3.850148  7.207860  6.481577   \n",
       "2015-03-19  0.000000  2.079442  7.010312  3.526361  7.132498  6.393591   \n",
       "2015-03-20  0.000000  2.639057  7.018402  4.969813  7.303170  6.408529   \n",
       "\n",
       "                  K7        K8        K9       K10     avgE1     avgE2  \n",
       "Date                                                                    \n",
       "2015-03-16  5.278115  6.828712  1.393842  0.190773  6.275005  8.390356  \n",
       "2015-03-17  6.150603  8.178639  1.710670  0.315157  6.275005  8.390356  \n",
       "2015-03-18  6.202536  8.210668  1.775353  0.312381  6.275005  8.390356  \n",
       "2015-03-19  6.259581  8.165648  1.753667  0.304319  6.275005  8.390356  \n",
       "2015-03-20  6.118097  8.246958  1.654102  0.328577  6.275005  8.390356  "
      ]
     },
     "execution_count": 16,
     "metadata": {},
     "output_type": "execute_result"
    }
   ],
   "source": [
    "logs = np.log1p(df_kpis[cols_list])\n",
    "logs.head()"
   ]
  },
  {
   "cell_type": "code",
   "execution_count": 17,
   "metadata": {},
   "outputs": [
    {
     "data": {
      "text/html": [
       "<div>\n",
       "<style>\n",
       "    .dataframe thead tr:only-child th {\n",
       "        text-align: right;\n",
       "    }\n",
       "\n",
       "    .dataframe thead th {\n",
       "        text-align: left;\n",
       "    }\n",
       "\n",
       "    .dataframe tbody tr th {\n",
       "        vertical-align: top;\n",
       "    }\n",
       "</style>\n",
       "<table border=\"1\" class=\"dataframe\">\n",
       "  <thead>\n",
       "    <tr style=\"text-align: right;\">\n",
       "      <th></th>\n",
       "      <th>month_1</th>\n",
       "      <th>month_10</th>\n",
       "      <th>month_11</th>\n",
       "      <th>month_12</th>\n",
       "      <th>month_2</th>\n",
       "      <th>month_3</th>\n",
       "      <th>month_4</th>\n",
       "      <th>month_5</th>\n",
       "      <th>month_6</th>\n",
       "      <th>month_7</th>\n",
       "      <th>month_8</th>\n",
       "      <th>month_9</th>\n",
       "      <th>weekday_0</th>\n",
       "      <th>weekday_1</th>\n",
       "      <th>weekday_2</th>\n",
       "      <th>weekday_3</th>\n",
       "      <th>weekday_4</th>\n",
       "      <th>weekday_5</th>\n",
       "      <th>weekday_6</th>\n",
       "    </tr>\n",
       "    <tr>\n",
       "      <th>Date</th>\n",
       "      <th></th>\n",
       "      <th></th>\n",
       "      <th></th>\n",
       "      <th></th>\n",
       "      <th></th>\n",
       "      <th></th>\n",
       "      <th></th>\n",
       "      <th></th>\n",
       "      <th></th>\n",
       "      <th></th>\n",
       "      <th></th>\n",
       "      <th></th>\n",
       "      <th></th>\n",
       "      <th></th>\n",
       "      <th></th>\n",
       "      <th></th>\n",
       "      <th></th>\n",
       "      <th></th>\n",
       "      <th></th>\n",
       "    </tr>\n",
       "  </thead>\n",
       "  <tbody>\n",
       "    <tr>\n",
       "      <th>2015-03-16</th>\n",
       "      <td>0</td>\n",
       "      <td>0</td>\n",
       "      <td>0</td>\n",
       "      <td>0</td>\n",
       "      <td>0</td>\n",
       "      <td>1</td>\n",
       "      <td>0</td>\n",
       "      <td>0</td>\n",
       "      <td>0</td>\n",
       "      <td>0</td>\n",
       "      <td>0</td>\n",
       "      <td>0</td>\n",
       "      <td>1</td>\n",
       "      <td>0</td>\n",
       "      <td>0</td>\n",
       "      <td>0</td>\n",
       "      <td>0</td>\n",
       "      <td>0</td>\n",
       "      <td>0</td>\n",
       "    </tr>\n",
       "    <tr>\n",
       "      <th>2015-03-17</th>\n",
       "      <td>0</td>\n",
       "      <td>0</td>\n",
       "      <td>0</td>\n",
       "      <td>0</td>\n",
       "      <td>0</td>\n",
       "      <td>1</td>\n",
       "      <td>0</td>\n",
       "      <td>0</td>\n",
       "      <td>0</td>\n",
       "      <td>0</td>\n",
       "      <td>0</td>\n",
       "      <td>0</td>\n",
       "      <td>0</td>\n",
       "      <td>1</td>\n",
       "      <td>0</td>\n",
       "      <td>0</td>\n",
       "      <td>0</td>\n",
       "      <td>0</td>\n",
       "      <td>0</td>\n",
       "    </tr>\n",
       "    <tr>\n",
       "      <th>2015-03-18</th>\n",
       "      <td>0</td>\n",
       "      <td>0</td>\n",
       "      <td>0</td>\n",
       "      <td>0</td>\n",
       "      <td>0</td>\n",
       "      <td>1</td>\n",
       "      <td>0</td>\n",
       "      <td>0</td>\n",
       "      <td>0</td>\n",
       "      <td>0</td>\n",
       "      <td>0</td>\n",
       "      <td>0</td>\n",
       "      <td>0</td>\n",
       "      <td>0</td>\n",
       "      <td>1</td>\n",
       "      <td>0</td>\n",
       "      <td>0</td>\n",
       "      <td>0</td>\n",
       "      <td>0</td>\n",
       "    </tr>\n",
       "    <tr>\n",
       "      <th>2015-03-19</th>\n",
       "      <td>0</td>\n",
       "      <td>0</td>\n",
       "      <td>0</td>\n",
       "      <td>0</td>\n",
       "      <td>0</td>\n",
       "      <td>1</td>\n",
       "      <td>0</td>\n",
       "      <td>0</td>\n",
       "      <td>0</td>\n",
       "      <td>0</td>\n",
       "      <td>0</td>\n",
       "      <td>0</td>\n",
       "      <td>0</td>\n",
       "      <td>0</td>\n",
       "      <td>0</td>\n",
       "      <td>1</td>\n",
       "      <td>0</td>\n",
       "      <td>0</td>\n",
       "      <td>0</td>\n",
       "    </tr>\n",
       "    <tr>\n",
       "      <th>2015-03-20</th>\n",
       "      <td>0</td>\n",
       "      <td>0</td>\n",
       "      <td>0</td>\n",
       "      <td>0</td>\n",
       "      <td>0</td>\n",
       "      <td>1</td>\n",
       "      <td>0</td>\n",
       "      <td>0</td>\n",
       "      <td>0</td>\n",
       "      <td>0</td>\n",
       "      <td>0</td>\n",
       "      <td>0</td>\n",
       "      <td>0</td>\n",
       "      <td>0</td>\n",
       "      <td>0</td>\n",
       "      <td>0</td>\n",
       "      <td>1</td>\n",
       "      <td>0</td>\n",
       "      <td>0</td>\n",
       "    </tr>\n",
       "  </tbody>\n",
       "</table>\n",
       "</div>"
      ],
      "text/plain": [
       "            month_1  month_10  month_11  month_12  month_2  month_3  month_4  \\\n",
       "Date                                                                           \n",
       "2015-03-16        0         0         0         0        0        1        0   \n",
       "2015-03-17        0         0         0         0        0        1        0   \n",
       "2015-03-18        0         0         0         0        0        1        0   \n",
       "2015-03-19        0         0         0         0        0        1        0   \n",
       "2015-03-20        0         0         0         0        0        1        0   \n",
       "\n",
       "            month_5  month_6  month_7  month_8  month_9  weekday_0  weekday_1  \\\n",
       "Date                                                                            \n",
       "2015-03-16        0        0        0        0        0          1          0   \n",
       "2015-03-17        0        0        0        0        0          0          1   \n",
       "2015-03-18        0        0        0        0        0          0          0   \n",
       "2015-03-19        0        0        0        0        0          0          0   \n",
       "2015-03-20        0        0        0        0        0          0          0   \n",
       "\n",
       "            weekday_2  weekday_3  weekday_4  weekday_5  weekday_6  \n",
       "Date                                                               \n",
       "2015-03-16          0          0          0          0          0  \n",
       "2015-03-17          0          0          0          0          0  \n",
       "2015-03-18          1          0          0          0          0  \n",
       "2015-03-19          0          1          0          0          0  \n",
       "2015-03-20          0          0          1          0          0  "
      ]
     },
     "execution_count": 17,
     "metadata": {},
     "output_type": "execute_result"
    }
   ],
   "source": [
    "dummies = pd.get_dummies(df_kpis[['month', 'weekday']].astype(str))\n",
    "dummies.head()"
   ]
  },
  {
   "cell_type": "code",
   "execution_count": 18,
   "metadata": {},
   "outputs": [
    {
     "name": "stdout",
     "output_type": "stream",
     "text": [
      "(932, 31)\n",
      "Index(['K1', 'K2', 'K3', 'K4', 'K5', 'K6', 'K7', 'K8', 'K9', 'K10', 'avgE1',\n",
      "       'avgE2', 'month_1', 'month_10', 'month_11', 'month_12', 'month_2',\n",
      "       'month_3', 'month_4', 'month_5', 'month_6', 'month_7', 'month_8',\n",
      "       'month_9', 'weekday_0', 'weekday_1', 'weekday_2', 'weekday_3',\n",
      "       'weekday_4', 'weekday_5', 'weekday_6'],\n",
      "      dtype='object')\n"
     ]
    }
   ],
   "source": [
    "df = pd.concat([logs, dummies], axis=1)\n",
    "print(df.shape)\n",
    "print(df.columns)"
   ]
  },
  {
   "cell_type": "code",
   "execution_count": 19,
   "metadata": {
    "collapsed": true
   },
   "outputs": [],
   "source": [
    "train = df[df.index < '2017-09-01']\n",
    "test = df[df.index >= '2017-09-01']"
   ]
  },
  {
   "cell_type": "code",
   "execution_count": 20,
   "metadata": {},
   "outputs": [
    {
     "data": {
      "text/plain": [
       "MinMaxScaler(copy=True, feature_range=(0, 1))"
      ]
     },
     "execution_count": 20,
     "metadata": {},
     "output_type": "execute_result"
    }
   ],
   "source": [
    "from sklearn.preprocessing import MinMaxScaler\n",
    "scaler = MinMaxScaler()\n",
    "scaler.fit(train)"
   ]
  },
  {
   "cell_type": "code",
   "execution_count": 21,
   "metadata": {
    "collapsed": true,
    "scrolled": false
   },
   "outputs": [],
   "source": [
    "scaled_train = pd.DataFrame(scaler.transform(train), columns=train.columns, index=train.index)\n",
    "scaled_test = pd.DataFrame(scaler.transform(test), columns=test.columns, index=test.index)"
   ]
  },
  {
   "cell_type": "code",
   "execution_count": 22,
   "metadata": {
    "collapsed": true
   },
   "outputs": [],
   "source": [
    "# new_train = pd.concat([scaled_train, train.drop(cols_list, axis=1).head()], axis=1)\n",
    "# new_test = pd.concat([scaled_test, test.drop(cols_list, axis=1).head()], axis=1)\n",
    "new_train = scaled_train\n",
    "new_test = scaled_test"
   ]
  },
  {
   "cell_type": "code",
   "execution_count": 23,
   "metadata": {
    "collapsed": true
   },
   "outputs": [],
   "source": [
    "X_train = new_train.drop('K5', axis=1)\n",
    "y_train = new_train['K5']\n",
    "\n",
    "X_test = new_test.drop('K5', axis=1)\n",
    "y_test = new_test['K5']"
   ]
  },
  {
   "cell_type": "code",
   "execution_count": 24,
   "metadata": {},
   "outputs": [
    {
     "name": "stderr",
     "output_type": "stream",
     "text": [
      "Using TensorFlow backend.\n"
     ]
    }
   ],
   "source": [
    "# LSTM Model\n",
    "from sklearn.metrics import mean_squared_error\n",
    "from keras.models import Sequential\n",
    "from keras.layers import Dense, LSTM"
   ]
  },
  {
   "cell_type": "code",
   "execution_count": 25,
   "metadata": {
    "collapsed": true
   },
   "outputs": [],
   "source": [
    "X_train = X_train.values.reshape(X_train.shape[0], 1, X_train.shape[1])\n",
    "X_test = X_test.values.reshape(X_test.shape[0], 1, X_test.shape[1])"
   ]
  },
  {
   "cell_type": "code",
   "execution_count": 26,
   "metadata": {},
   "outputs": [
    {
     "name": "stdout",
     "output_type": "stream",
     "text": [
      "(900, 1, 30) (900,) (32, 1, 30) (32,)\n"
     ]
    }
   ],
   "source": [
    "print(X_train.shape, y_train.shape, X_test.shape, y_test.shape)"
   ]
  },
  {
   "cell_type": "code",
   "execution_count": 27,
   "metadata": {
    "scrolled": true
   },
   "outputs": [
    {
     "name": "stdout",
     "output_type": "stream",
     "text": [
      "Train on 900 samples, validate on 32 samples\n",
      "Epoch 1/50\n",
      "1s - loss: 0.2026 - val_loss: 0.0049\n",
      "Epoch 2/50\n",
      "0s - loss: 0.0090 - val_loss: 0.0039\n",
      "Epoch 3/50\n",
      "0s - loss: 0.0060 - val_loss: 0.0027\n",
      "Epoch 4/50\n",
      "0s - loss: 0.0042 - val_loss: 0.0020\n",
      "Epoch 5/50\n",
      "0s - loss: 0.0032 - val_loss: 0.0017\n",
      "Epoch 6/50\n",
      "0s - loss: 0.0027 - val_loss: 0.0016\n",
      "Epoch 7/50\n",
      "0s - loss: 0.0024 - val_loss: 0.0015\n",
      "Epoch 8/50\n",
      "0s - loss: 0.0022 - val_loss: 0.0016\n",
      "Epoch 9/50\n",
      "0s - loss: 0.0021 - val_loss: 0.0017\n",
      "Epoch 10/50\n",
      "0s - loss: 0.0020 - val_loss: 0.0019\n",
      "Epoch 11/50\n",
      "0s - loss: 0.0019 - val_loss: 0.0021\n",
      "Epoch 12/50\n",
      "0s - loss: 0.0018 - val_loss: 0.0023\n",
      "Epoch 13/50\n",
      "0s - loss: 0.0018 - val_loss: 0.0025\n",
      "Epoch 14/50\n",
      "0s - loss: 0.0017 - val_loss: 0.0027\n",
      "Epoch 15/50\n",
      "0s - loss: 0.0017 - val_loss: 0.0029\n",
      "Epoch 16/50\n",
      "0s - loss: 0.0017 - val_loss: 0.0031\n",
      "Epoch 17/50\n",
      "0s - loss: 0.0016 - val_loss: 0.0034\n",
      "Epoch 18/50\n",
      "0s - loss: 0.0016 - val_loss: 0.0036\n",
      "Epoch 19/50\n",
      "0s - loss: 0.0016 - val_loss: 0.0038\n",
      "Epoch 20/50\n",
      "0s - loss: 0.0015 - val_loss: 0.0040\n",
      "Epoch 21/50\n",
      "0s - loss: 0.0015 - val_loss: 0.0041\n",
      "Epoch 22/50\n",
      "0s - loss: 0.0015 - val_loss: 0.0043\n",
      "Epoch 23/50\n",
      "0s - loss: 0.0014 - val_loss: 0.0044\n",
      "Epoch 24/50\n",
      "0s - loss: 0.0014 - val_loss: 0.0046\n",
      "Epoch 25/50\n",
      "0s - loss: 0.0014 - val_loss: 0.0047\n",
      "Epoch 26/50\n",
      "0s - loss: 0.0013 - val_loss: 0.0048\n",
      "Epoch 27/50\n",
      "0s - loss: 0.0013 - val_loss: 0.0048\n",
      "Epoch 28/50\n",
      "0s - loss: 0.0013 - val_loss: 0.0049\n",
      "Epoch 29/50\n",
      "0s - loss: 0.0012 - val_loss: 0.0049\n",
      "Epoch 30/50\n",
      "0s - loss: 0.0012 - val_loss: 0.0050\n",
      "Epoch 31/50\n",
      "0s - loss: 0.0012 - val_loss: 0.0050\n",
      "Epoch 32/50\n",
      "0s - loss: 0.0011 - val_loss: 0.0050\n",
      "Epoch 33/50\n",
      "0s - loss: 0.0011 - val_loss: 0.0049\n",
      "Epoch 34/50\n",
      "0s - loss: 0.0011 - val_loss: 0.0049\n",
      "Epoch 35/50\n",
      "0s - loss: 0.0011 - val_loss: 0.0049\n",
      "Epoch 36/50\n",
      "0s - loss: 0.0010 - val_loss: 0.0048\n",
      "Epoch 37/50\n",
      "0s - loss: 9.9675e-04 - val_loss: 0.0048\n",
      "Epoch 38/50\n",
      "0s - loss: 9.6862e-04 - val_loss: 0.0047\n",
      "Epoch 39/50\n",
      "0s - loss: 9.4069e-04 - val_loss: 0.0046\n",
      "Epoch 40/50\n",
      "0s - loss: 9.1285e-04 - val_loss: 0.0045\n",
      "Epoch 41/50\n",
      "0s - loss: 8.8527e-04 - val_loss: 0.0045\n",
      "Epoch 42/50\n",
      "0s - loss: 8.5788e-04 - val_loss: 0.0044\n",
      "Epoch 43/50\n",
      "0s - loss: 8.3065e-04 - val_loss: 0.0043\n",
      "Epoch 44/50\n",
      "0s - loss: 8.0358e-04 - val_loss: 0.0042\n",
      "Epoch 45/50\n",
      "0s - loss: 7.7683e-04 - val_loss: 0.0040\n",
      "Epoch 46/50\n",
      "0s - loss: 7.5054e-04 - val_loss: 0.0039\n",
      "Epoch 47/50\n",
      "0s - loss: 7.2468e-04 - val_loss: 0.0038\n",
      "Epoch 48/50\n",
      "0s - loss: 6.9920e-04 - val_loss: 0.0037\n",
      "Epoch 49/50\n",
      "0s - loss: 6.7405e-04 - val_loss: 0.0035\n",
      "Epoch 50/50\n",
      "0s - loss: 6.4927e-04 - val_loss: 0.0034\n"
     ]
    }
   ],
   "source": [
    "# design network\n",
    "model = Sequential()\n",
    "model.add(LSTM(14, input_shape=(X_train.shape[1], X_train.shape[2])))\n",
    "model.add(Dense(1))\n",
    "model.compile(loss='mse', optimizer='adam')\n",
    "\n",
    "# fit the network\n",
    "history = model.fit(X_train, y_train, epochs=50, batch_size=10, validation_data=(X_test, y_test),\n",
    "                    verbose=2, shuffle=False)"
   ]
  },
  {
   "cell_type": "code",
   "execution_count": 28,
   "metadata": {},
   "outputs": [
    {
     "data": {
      "image/png": "[encoded data removed]",
      "text/plain": [
       "<matplotlib.figure.Figure at 0x7f2dc7d0aa90>"
      ]
     },
     "metadata": {},
     "output_type": "display_data"
    }
   ],
   "source": [
    "# plot history\n",
    "plt.figure(figsize=(7, 7))\n",
    "plt.plot(history.history['loss'], label='train')\n",
    "plt.plot(history.history['val_loss'], label='test')\n",
    "plt.legend()\n",
    "plt.show()"
   ]
  },
  {
   "cell_type": "code",
   "execution_count": 29,
   "metadata": {
    "collapsed": true
   },
   "outputs": [],
   "source": [
    "y_pred = model.predict(X_test, batch_size=10)\n",
    "# y_pred = scaler.inverse_transform(y_pred)\n",
    "test2 = pd.DataFrame(test.values, columns=test.columns, index=test.index)\n",
    "test2.loc[:, 'K5'] = y_pred"
   ]
  },
  {
   "cell_type": "code",
   "execution_count": 30,
   "metadata": {
    "collapsed": true
   },
   "outputs": [],
   "source": [
    "test2 = pd.DataFrame(scaler.inverse_transform(test2), columns=test.columns, index=test.index)"
   ]
  },
  {
   "cell_type": "code",
   "execution_count": 31,
   "metadata": {
    "collapsed": true
   },
   "outputs": [],
   "source": [
    "y_pred = test2['K5']\n",
    "# y_pred"
   ]
  },
  {
   "cell_type": "code",
   "execution_count": 32,
   "metadata": {
    "collapsed": true
   },
   "outputs": [],
   "source": [
    "finals = pd.DataFrame(pd.concat([df['K5'], y_pred], axis=1))\n",
    "finals.columns = ['K5', 'K5 pred']"
   ]
  },
  {
   "cell_type": "code",
   "execution_count": 33,
   "metadata": {},
   "outputs": [
    {
     "data": {
      "text/plain": [
       "<matplotlib.axes._subplots.AxesSubplot at 0x7f2d8f1156d8>"
      ]
     },
     "execution_count": 33,
     "metadata": {},
     "output_type": "execute_result"
    },
    {
     "data": {
      "image/png": "[encoded data removed]",
      "text/plain": [
       "<matplotlib.figure.Figure at 0x7f2dc7d0a7f0>"
      ]
     },
     "metadata": {},
     "output_type": "display_data"
    }
   ],
   "source": [
    "finals[finals.index >= '2017-08-15'].plot(figsize=(20,10))"
   ]
  },
  {
   "cell_type": "code",
   "execution_count": 34,
   "metadata": {
    "collapsed": true,
    "scrolled": true
   },
   "outputs": [],
   "source": [
    "finals_exp = np.exp(finals) - 1\n",
    "# finals_exp"
   ]
  },
  {
   "cell_type": "code",
   "execution_count": 35,
   "metadata": {},
   "outputs": [
    {
     "data": {
      "text/plain": [
       "<matplotlib.axes._subplots.AxesSubplot at 0x7f2d8f0361d0>"
      ]
     },
     "execution_count": 35,
     "metadata": {},
     "output_type": "execute_result"
    },
    {
     "data": {
      "image/png": "[encoded data removed]",
      "text/plain": [
       "<matplotlib.figure.Figure at 0x7f2d380e91d0>"
      ]
     },
     "metadata": {},
     "output_type": "display_data"
    }
   ],
   "source": [
    "finals_exp[finals_exp.index >= '2017-08-15'].plot(figsize=(20,10))"
   ]
  },
  {
   "cell_type": "code",
   "execution_count": 39,
   "metadata": {},
   "outputs": [
    {
     "name": "stderr",
     "output_type": "stream",
     "text": [
      "/usr/lib/python3.4/site-packages/ipykernel_launcher.py:2: SettingWithCopyWarning: \n",
      "A value is trying to be set on a copy of a slice from a DataFrame.\n",
      "Try using .loc[row_indexer,col_indexer] = value instead\n",
      "\n",
      "See the caveats in the documentation: http://pandas.pydata.org/pandas-docs/stable/indexing.html#indexing-view-versus-copy\n",
      "  \n"
     ]
    },
    {
     "data": {
      "text/plain": [
       "0.18745723921310517"
      ]
     },
     "execution_count": 39,
     "metadata": {},
     "output_type": "execute_result"
    }
   ],
   "source": [
    "y_values = finals_exp[finals_exp['K5 pred'].notnull()]\n",
    "y_values['perc_error'] = abs((y_values['K5'] - y_values['K5 pred'])/y_values['K5'])\n",
    "y_values['perc_error'].mean()"
   ]
  },
  {
   "cell_type": "code",
   "execution_count": 40,
   "metadata": {},
   "outputs": [
    {
     "data": {
      "text/plain": [
       "16.68109335805666"
      ]
     },
     "execution_count": 40,
     "metadata": {},
     "output_type": "execute_result"
    }
   ],
   "source": [
    "def smape(y_true, y_pred):\n",
    "    denominator = (np.abs(y_true) + np.abs(y_pred))\n",
    "    diff = np.abs(y_true - y_pred) / denominator\n",
    "    diff[denominator == 0] = 0.0\n",
    "    return 200 * np.mean(diff)\n",
    "\n",
    "smape(y_values['K5'], y_values['K5 pred'])"
   ]
  }
 ],
 "metadata": {
  "kernelspec": {
   "display_name": "Python 3",
   "language": "python",
   "name": "python3"
  },
  "language_info": {
   "codemirror_mode": {
    "name": "ipython",
    "version": 3
   },
   "file_extension": ".py",
   "mimetype": "text/x-python",
   "name": "python",
   "nbconvert_exporter": "python",
   "pygments_lexer": "ipython3",
   "version": "3.4.5"
  }
 },
 "nbformat": 4,
 "nbformat_minor": 2
}
