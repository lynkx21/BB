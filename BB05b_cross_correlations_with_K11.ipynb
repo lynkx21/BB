{
 "cells": [
  {
   "cell_type": "code",
   "execution_count": 2,
   "metadata": {},
   "outputs": [],
   "source": [
    "import os\n",
    "import numpy as np\n",
    "import pandas as pd\n",
    "import matplotlib.pyplot as plt\n",
    "%matplotlib inline\n",
    "\n",
    "# LSTM Model\n",
    "from sklearn.metrics import mean_squared_error\n",
    "from keras.models import Sequential\n",
    "from keras.layers import Dense, LSTM"
   ]
  },
  {
   "cell_type": "code",
   "execution_count": 3,
   "metadata": {},
   "outputs": [
    {
     "data": {
      "text/plain": [
       "'C:\\\\Users\\\\lynkx\\\\Python Projects\\\\BB\\\\data'"
      ]
     },
     "execution_count": 3,
     "metadata": {},
     "output_type": "execute_result"
    }
   ],
   "source": [
    "data_path = os.path.join(os.getcwd(), 'data')\n",
    "data_path"
   ]
  },
  {
   "cell_type": "code",
   "execution_count": 4,
   "metadata": {
    "collapsed": true
   },
   "outputs": [],
   "source": [
    "df_kpis = pd.read_excel(os.path.join(data_path, 'analisi.xlsx'), sheetname='KPIs')\n",
    "df_spending = pd.read_excel(os.path.join(data_path, 'analisi.xlsx'), sheetname='Spending')"
   ]
  },
  {
   "cell_type": "code",
   "execution_count": 5,
   "metadata": {
    "collapsed": true
   },
   "outputs": [],
   "source": [
    "df_kpis.sort_values(by='Date', inplace=True)\n",
    "df_spending.sort_values(by='Date', inplace=True)\n",
    "\n",
    "# Drop K5, because it's another response variable\n",
    "df_kpis.drop('K5', axis=1, inplace=True)"
   ]
  },
  {
   "cell_type": "code",
   "execution_count": 6,
   "metadata": {},
   "outputs": [
    {
     "name": "stdout",
     "output_type": "stream",
     "text": [
      "<class 'pandas.core.frame.DataFrame'>\n",
      "Int64Index: 932 entries, 0 to 931\n",
      "Data columns (total 11 columns):\n",
      "Date    932 non-null datetime64[ns]\n",
      "K1      932 non-null int64\n",
      "K2      932 non-null int64\n",
      "K3      932 non-null int64\n",
      "K4      932 non-null int64\n",
      "K6      932 non-null int64\n",
      "K7      932 non-null int64\n",
      "K8      932 non-null int64\n",
      "K9      932 non-null float64\n",
      "K10     932 non-null float64\n",
      "K11     932 non-null float64\n",
      "dtypes: datetime64[ns](1), float64(3), int64(7)\n",
      "memory usage: 87.4 KB\n"
     ]
    }
   ],
   "source": [
    "# Date metric\n",
    "df_kpis.info()"
   ]
  },
  {
   "cell_type": "code",
   "execution_count": 7,
   "metadata": {
    "collapsed": true
   },
   "outputs": [],
   "source": [
    "df_kpis['month'] = df_kpis['Date'].dt.month\n",
    "df_kpis['year'] = df_kpis['Date'].dt.year\n",
    "df_kpis['weekday'] = df_kpis['Date'].dt.weekday\n",
    "df_kpis['days_in_month'] = df_kpis['Date'].dt.daysinmonth"
   ]
  },
  {
   "cell_type": "code",
   "execution_count": 8,
   "metadata": {
    "collapsed": true
   },
   "outputs": [],
   "source": [
    "df_kpis_date = df_kpis['Date']\n",
    "df_kpis.index = df_kpis_date\n",
    "df_kpis.drop('Date', axis=1, inplace=True)"
   ]
  },
  {
   "cell_type": "code",
   "execution_count": 9,
   "metadata": {},
   "outputs": [
    {
     "data": {
      "text/html": [
       "<div>\n",
       "<style>\n",
       "    .dataframe thead tr:only-child th {\n",
       "        text-align: right;\n",
       "    }\n",
       "\n",
       "    .dataframe thead th {\n",
       "        text-align: left;\n",
       "    }\n",
       "\n",
       "    .dataframe tbody tr th {\n",
       "        vertical-align: top;\n",
       "    }\n",
       "</style>\n",
       "<table border=\"1\" class=\"dataframe\">\n",
       "  <thead>\n",
       "    <tr style=\"text-align: right;\">\n",
       "      <th></th>\n",
       "      <th>K1</th>\n",
       "      <th>K2</th>\n",
       "      <th>K3</th>\n",
       "      <th>K4</th>\n",
       "      <th>K6</th>\n",
       "      <th>K7</th>\n",
       "      <th>K8</th>\n",
       "      <th>K9</th>\n",
       "      <th>K10</th>\n",
       "      <th>K11</th>\n",
       "      <th>month</th>\n",
       "      <th>year</th>\n",
       "      <th>weekday</th>\n",
       "      <th>days_in_month</th>\n",
       "    </tr>\n",
       "    <tr>\n",
       "      <th>Date</th>\n",
       "      <th></th>\n",
       "      <th></th>\n",
       "      <th></th>\n",
       "      <th></th>\n",
       "      <th></th>\n",
       "      <th></th>\n",
       "      <th></th>\n",
       "      <th></th>\n",
       "      <th></th>\n",
       "      <th></th>\n",
       "      <th></th>\n",
       "      <th></th>\n",
       "      <th></th>\n",
       "      <th></th>\n",
       "    </tr>\n",
       "  </thead>\n",
       "  <tbody>\n",
       "    <tr>\n",
       "      <th>2015-03-16</th>\n",
       "      <td>0</td>\n",
       "      <td>0</td>\n",
       "      <td>155</td>\n",
       "      <td>0</td>\n",
       "      <td>379</td>\n",
       "      <td>195</td>\n",
       "      <td>923</td>\n",
       "      <td>3.030303</td>\n",
       "      <td>0.210184</td>\n",
       "      <td>0.333333</td>\n",
       "      <td>3</td>\n",
       "      <td>2015</td>\n",
       "      <td>0</td>\n",
       "      <td>31</td>\n",
       "    </tr>\n",
       "    <tr>\n",
       "      <th>2015-03-17</th>\n",
       "      <td>1</td>\n",
       "      <td>8</td>\n",
       "      <td>1074</td>\n",
       "      <td>34</td>\n",
       "      <td>658</td>\n",
       "      <td>468</td>\n",
       "      <td>3563</td>\n",
       "      <td>4.532667</td>\n",
       "      <td>0.370474</td>\n",
       "      <td>0.301205</td>\n",
       "      <td>3</td>\n",
       "      <td>2015</td>\n",
       "      <td>1</td>\n",
       "      <td>31</td>\n",
       "    </tr>\n",
       "    <tr>\n",
       "      <th>2015-03-18</th>\n",
       "      <td>0</td>\n",
       "      <td>10</td>\n",
       "      <td>1129</td>\n",
       "      <td>46</td>\n",
       "      <td>652</td>\n",
       "      <td>493</td>\n",
       "      <td>3679</td>\n",
       "      <td>4.902364</td>\n",
       "      <td>0.366676</td>\n",
       "      <td>0.288462</td>\n",
       "      <td>3</td>\n",
       "      <td>2015</td>\n",
       "      <td>2</td>\n",
       "      <td>31</td>\n",
       "    </tr>\n",
       "    <tr>\n",
       "      <th>2015-03-19</th>\n",
       "      <td>0</td>\n",
       "      <td>7</td>\n",
       "      <td>1107</td>\n",
       "      <td>33</td>\n",
       "      <td>597</td>\n",
       "      <td>522</td>\n",
       "      <td>3517</td>\n",
       "      <td>4.775744</td>\n",
       "      <td>0.355701</td>\n",
       "      <td>0.385714</td>\n",
       "      <td>3</td>\n",
       "      <td>2015</td>\n",
       "      <td>3</td>\n",
       "      <td>31</td>\n",
       "    </tr>\n",
       "    <tr>\n",
       "      <th>2015-03-20</th>\n",
       "      <td>0</td>\n",
       "      <td>13</td>\n",
       "      <td>1116</td>\n",
       "      <td>143</td>\n",
       "      <td>606</td>\n",
       "      <td>453</td>\n",
       "      <td>3815</td>\n",
       "      <td>4.228381</td>\n",
       "      <td>0.388991</td>\n",
       "      <td>0.678571</td>\n",
       "      <td>3</td>\n",
       "      <td>2015</td>\n",
       "      <td>4</td>\n",
       "      <td>31</td>\n",
       "    </tr>\n",
       "  </tbody>\n",
       "</table>\n",
       "</div>"
      ],
      "text/plain": [
       "            K1  K2    K3   K4   K6   K7    K8        K9       K10       K11  \\\n",
       "Date                                                                          \n",
       "2015-03-16   0   0   155    0  379  195   923  3.030303  0.210184  0.333333   \n",
       "2015-03-17   1   8  1074   34  658  468  3563  4.532667  0.370474  0.301205   \n",
       "2015-03-18   0  10  1129   46  652  493  3679  4.902364  0.366676  0.288462   \n",
       "2015-03-19   0   7  1107   33  597  522  3517  4.775744  0.355701  0.385714   \n",
       "2015-03-20   0  13  1116  143  606  453  3815  4.228381  0.388991  0.678571   \n",
       "\n",
       "            month  year  weekday  days_in_month  \n",
       "Date                                             \n",
       "2015-03-16      3  2015        0             31  \n",
       "2015-03-17      3  2015        1             31  \n",
       "2015-03-18      3  2015        2             31  \n",
       "2015-03-19      3  2015        3             31  \n",
       "2015-03-20      3  2015        4             31  "
      ]
     },
     "execution_count": 9,
     "metadata": {},
     "output_type": "execute_result"
    }
   ],
   "source": [
    "df_kpis.head()"
   ]
  },
  {
   "cell_type": "code",
   "execution_count": 10,
   "metadata": {
    "collapsed": true
   },
   "outputs": [],
   "source": [
    "df_spending['month'] = df_spending['Date'].dt.month\n",
    "df_spending['year'] = df_spending['Date'].dt.year\n",
    "df_spending['days_in_month'] = df_spending['Date'].dt.daysinmonth\n",
    "df_spending.index = df_spending['Date']\n",
    "df_spending.drop('Date', axis=1, inplace=True)"
   ]
  },
  {
   "cell_type": "code",
   "execution_count": 11,
   "metadata": {
    "collapsed": true
   },
   "outputs": [],
   "source": [
    "df_spending['avgE1'] = df_spending['E1']/df_spending['days_in_month']\n",
    "df_spending['avgE2'] = df_spending['E2']/df_spending['days_in_month']"
   ]
  },
  {
   "cell_type": "code",
   "execution_count": 12,
   "metadata": {
    "collapsed": true
   },
   "outputs": [],
   "source": [
    "df_kpis = df_kpis.merge(df_spending[['year', 'month', 'avgE1', 'avgE2']], on=['year', 'month'],\n",
    "                        how='inner')\n",
    "df_kpis.index = df_kpis_date"
   ]
  },
  {
   "cell_type": "code",
   "execution_count": 13,
   "metadata": {},
   "outputs": [
    {
     "data": {
      "text/html": [
       "<div>\n",
       "<style>\n",
       "    .dataframe thead tr:only-child th {\n",
       "        text-align: right;\n",
       "    }\n",
       "\n",
       "    .dataframe thead th {\n",
       "        text-align: left;\n",
       "    }\n",
       "\n",
       "    .dataframe tbody tr th {\n",
       "        vertical-align: top;\n",
       "    }\n",
       "</style>\n",
       "<table border=\"1\" class=\"dataframe\">\n",
       "  <thead>\n",
       "    <tr style=\"text-align: right;\">\n",
       "      <th></th>\n",
       "      <th>K1</th>\n",
       "      <th>K2</th>\n",
       "      <th>K3</th>\n",
       "      <th>K4</th>\n",
       "      <th>K6</th>\n",
       "      <th>K7</th>\n",
       "      <th>K8</th>\n",
       "      <th>K9</th>\n",
       "      <th>K10</th>\n",
       "      <th>K11</th>\n",
       "      <th>month</th>\n",
       "      <th>year</th>\n",
       "      <th>weekday</th>\n",
       "      <th>days_in_month</th>\n",
       "      <th>avgE1</th>\n",
       "      <th>avgE2</th>\n",
       "    </tr>\n",
       "    <tr>\n",
       "      <th>Date</th>\n",
       "      <th></th>\n",
       "      <th></th>\n",
       "      <th></th>\n",
       "      <th></th>\n",
       "      <th></th>\n",
       "      <th></th>\n",
       "      <th></th>\n",
       "      <th></th>\n",
       "      <th></th>\n",
       "      <th></th>\n",
       "      <th></th>\n",
       "      <th></th>\n",
       "      <th></th>\n",
       "      <th></th>\n",
       "      <th></th>\n",
       "      <th></th>\n",
       "    </tr>\n",
       "  </thead>\n",
       "  <tbody>\n",
       "    <tr>\n",
       "      <th>2015-03-16</th>\n",
       "      <td>0</td>\n",
       "      <td>0</td>\n",
       "      <td>155</td>\n",
       "      <td>0</td>\n",
       "      <td>379</td>\n",
       "      <td>195</td>\n",
       "      <td>923</td>\n",
       "      <td>3.030303</td>\n",
       "      <td>0.210184</td>\n",
       "      <td>0.333333</td>\n",
       "      <td>3</td>\n",
       "      <td>2015</td>\n",
       "      <td>0</td>\n",
       "      <td>31</td>\n",
       "      <td>530.129032</td>\n",
       "      <td>4403.387097</td>\n",
       "    </tr>\n",
       "    <tr>\n",
       "      <th>2015-03-17</th>\n",
       "      <td>1</td>\n",
       "      <td>8</td>\n",
       "      <td>1074</td>\n",
       "      <td>34</td>\n",
       "      <td>658</td>\n",
       "      <td>468</td>\n",
       "      <td>3563</td>\n",
       "      <td>4.532667</td>\n",
       "      <td>0.370474</td>\n",
       "      <td>0.301205</td>\n",
       "      <td>3</td>\n",
       "      <td>2015</td>\n",
       "      <td>1</td>\n",
       "      <td>31</td>\n",
       "      <td>530.129032</td>\n",
       "      <td>4403.387097</td>\n",
       "    </tr>\n",
       "    <tr>\n",
       "      <th>2015-03-18</th>\n",
       "      <td>0</td>\n",
       "      <td>10</td>\n",
       "      <td>1129</td>\n",
       "      <td>46</td>\n",
       "      <td>652</td>\n",
       "      <td>493</td>\n",
       "      <td>3679</td>\n",
       "      <td>4.902364</td>\n",
       "      <td>0.366676</td>\n",
       "      <td>0.288462</td>\n",
       "      <td>3</td>\n",
       "      <td>2015</td>\n",
       "      <td>2</td>\n",
       "      <td>31</td>\n",
       "      <td>530.129032</td>\n",
       "      <td>4403.387097</td>\n",
       "    </tr>\n",
       "    <tr>\n",
       "      <th>2015-03-19</th>\n",
       "      <td>0</td>\n",
       "      <td>7</td>\n",
       "      <td>1107</td>\n",
       "      <td>33</td>\n",
       "      <td>597</td>\n",
       "      <td>522</td>\n",
       "      <td>3517</td>\n",
       "      <td>4.775744</td>\n",
       "      <td>0.355701</td>\n",
       "      <td>0.385714</td>\n",
       "      <td>3</td>\n",
       "      <td>2015</td>\n",
       "      <td>3</td>\n",
       "      <td>31</td>\n",
       "      <td>530.129032</td>\n",
       "      <td>4403.387097</td>\n",
       "    </tr>\n",
       "    <tr>\n",
       "      <th>2015-03-20</th>\n",
       "      <td>0</td>\n",
       "      <td>13</td>\n",
       "      <td>1116</td>\n",
       "      <td>143</td>\n",
       "      <td>606</td>\n",
       "      <td>453</td>\n",
       "      <td>3815</td>\n",
       "      <td>4.228381</td>\n",
       "      <td>0.388991</td>\n",
       "      <td>0.678571</td>\n",
       "      <td>3</td>\n",
       "      <td>2015</td>\n",
       "      <td>4</td>\n",
       "      <td>31</td>\n",
       "      <td>530.129032</td>\n",
       "      <td>4403.387097</td>\n",
       "    </tr>\n",
       "  </tbody>\n",
       "</table>\n",
       "</div>"
      ],
      "text/plain": [
       "            K1  K2    K3   K4   K6   K7    K8        K9       K10       K11  \\\n",
       "Date                                                                          \n",
       "2015-03-16   0   0   155    0  379  195   923  3.030303  0.210184  0.333333   \n",
       "2015-03-17   1   8  1074   34  658  468  3563  4.532667  0.370474  0.301205   \n",
       "2015-03-18   0  10  1129   46  652  493  3679  4.902364  0.366676  0.288462   \n",
       "2015-03-19   0   7  1107   33  597  522  3517  4.775744  0.355701  0.385714   \n",
       "2015-03-20   0  13  1116  143  606  453  3815  4.228381  0.388991  0.678571   \n",
       "\n",
       "            month  year  weekday  days_in_month       avgE1        avgE2  \n",
       "Date                                                                      \n",
       "2015-03-16      3  2015        0             31  530.129032  4403.387097  \n",
       "2015-03-17      3  2015        1             31  530.129032  4403.387097  \n",
       "2015-03-18      3  2015        2             31  530.129032  4403.387097  \n",
       "2015-03-19      3  2015        3             31  530.129032  4403.387097  \n",
       "2015-03-20      3  2015        4             31  530.129032  4403.387097  "
      ]
     },
     "execution_count": 13,
     "metadata": {},
     "output_type": "execute_result"
    }
   ],
   "source": [
    "df_kpis.head()"
   ]
  },
  {
   "cell_type": "code",
   "execution_count": 14,
   "metadata": {},
   "outputs": [
    {
     "data": {
      "text/plain": [
       "(932, 16)"
      ]
     },
     "execution_count": 14,
     "metadata": {},
     "output_type": "execute_result"
    }
   ],
   "source": [
    "df_kpis.shape"
   ]
  },
  {
   "cell_type": "code",
   "execution_count": 15,
   "metadata": {
    "collapsed": true
   },
   "outputs": [],
   "source": [
    "cols_list = [i for i in df_kpis.columns if i[0] == 'K']\n",
    "cols_list.append('avgE1')\n",
    "cols_list.append('avgE2')"
   ]
  },
  {
   "cell_type": "code",
   "execution_count": 16,
   "metadata": {},
   "outputs": [
    {
     "name": "stdout",
     "output_type": "stream",
     "text": [
      "['K1', 'K2', 'K3', 'K4', 'K6', 'K7', 'K8', 'K9', 'K10', 'K11', 'avgE1', 'avgE2']\n"
     ]
    }
   ],
   "source": [
    "print(cols_list)"
   ]
  },
  {
   "cell_type": "code",
   "execution_count": 17,
   "metadata": {},
   "outputs": [
    {
     "data": {
      "text/html": [
       "<div>\n",
       "<style>\n",
       "    .dataframe thead tr:only-child th {\n",
       "        text-align: right;\n",
       "    }\n",
       "\n",
       "    .dataframe thead th {\n",
       "        text-align: left;\n",
       "    }\n",
       "\n",
       "    .dataframe tbody tr th {\n",
       "        vertical-align: top;\n",
       "    }\n",
       "</style>\n",
       "<table border=\"1\" class=\"dataframe\">\n",
       "  <thead>\n",
       "    <tr style=\"text-align: right;\">\n",
       "      <th></th>\n",
       "      <th>K1</th>\n",
       "      <th>K2</th>\n",
       "      <th>K3</th>\n",
       "      <th>K4</th>\n",
       "      <th>K6</th>\n",
       "      <th>K7</th>\n",
       "      <th>K8</th>\n",
       "      <th>K9</th>\n",
       "      <th>K10</th>\n",
       "      <th>K11</th>\n",
       "      <th>avgE1</th>\n",
       "      <th>avgE2</th>\n",
       "    </tr>\n",
       "    <tr>\n",
       "      <th>Date</th>\n",
       "      <th></th>\n",
       "      <th></th>\n",
       "      <th></th>\n",
       "      <th></th>\n",
       "      <th></th>\n",
       "      <th></th>\n",
       "      <th></th>\n",
       "      <th></th>\n",
       "      <th></th>\n",
       "      <th></th>\n",
       "      <th></th>\n",
       "      <th></th>\n",
       "    </tr>\n",
       "  </thead>\n",
       "  <tbody>\n",
       "    <tr>\n",
       "      <th>2015-03-16</th>\n",
       "      <td>0.000000</td>\n",
       "      <td>0.000000</td>\n",
       "      <td>5.049856</td>\n",
       "      <td>0.000000</td>\n",
       "      <td>5.940171</td>\n",
       "      <td>5.278115</td>\n",
       "      <td>6.828712</td>\n",
       "      <td>1.393842</td>\n",
       "      <td>0.190773</td>\n",
       "      <td>0.287682</td>\n",
       "      <td>6.275005</td>\n",
       "      <td>8.390356</td>\n",
       "    </tr>\n",
       "    <tr>\n",
       "      <th>2015-03-17</th>\n",
       "      <td>0.693147</td>\n",
       "      <td>2.197225</td>\n",
       "      <td>6.980076</td>\n",
       "      <td>3.555348</td>\n",
       "      <td>6.490724</td>\n",
       "      <td>6.150603</td>\n",
       "      <td>8.178639</td>\n",
       "      <td>1.710670</td>\n",
       "      <td>0.315157</td>\n",
       "      <td>0.263291</td>\n",
       "      <td>6.275005</td>\n",
       "      <td>8.390356</td>\n",
       "    </tr>\n",
       "    <tr>\n",
       "      <th>2015-03-18</th>\n",
       "      <td>0.000000</td>\n",
       "      <td>2.397895</td>\n",
       "      <td>7.029973</td>\n",
       "      <td>3.850148</td>\n",
       "      <td>6.481577</td>\n",
       "      <td>6.202536</td>\n",
       "      <td>8.210668</td>\n",
       "      <td>1.775353</td>\n",
       "      <td>0.312381</td>\n",
       "      <td>0.253449</td>\n",
       "      <td>6.275005</td>\n",
       "      <td>8.390356</td>\n",
       "    </tr>\n",
       "    <tr>\n",
       "      <th>2015-03-19</th>\n",
       "      <td>0.000000</td>\n",
       "      <td>2.079442</td>\n",
       "      <td>7.010312</td>\n",
       "      <td>3.526361</td>\n",
       "      <td>6.393591</td>\n",
       "      <td>6.259581</td>\n",
       "      <td>8.165648</td>\n",
       "      <td>1.753667</td>\n",
       "      <td>0.304319</td>\n",
       "      <td>0.326216</td>\n",
       "      <td>6.275005</td>\n",
       "      <td>8.390356</td>\n",
       "    </tr>\n",
       "    <tr>\n",
       "      <th>2015-03-20</th>\n",
       "      <td>0.000000</td>\n",
       "      <td>2.639057</td>\n",
       "      <td>7.018402</td>\n",
       "      <td>4.969813</td>\n",
       "      <td>6.408529</td>\n",
       "      <td>6.118097</td>\n",
       "      <td>8.246958</td>\n",
       "      <td>1.654102</td>\n",
       "      <td>0.328577</td>\n",
       "      <td>0.517943</td>\n",
       "      <td>6.275005</td>\n",
       "      <td>8.390356</td>\n",
       "    </tr>\n",
       "  </tbody>\n",
       "</table>\n",
       "</div>"
      ],
      "text/plain": [
       "                  K1        K2        K3        K4        K6        K7  \\\n",
       "Date                                                                     \n",
       "2015-03-16  0.000000  0.000000  5.049856  0.000000  5.940171  5.278115   \n",
       "2015-03-17  0.693147  2.197225  6.980076  3.555348  6.490724  6.150603   \n",
       "2015-03-18  0.000000  2.397895  7.029973  3.850148  6.481577  6.202536   \n",
       "2015-03-19  0.000000  2.079442  7.010312  3.526361  6.393591  6.259581   \n",
       "2015-03-20  0.000000  2.639057  7.018402  4.969813  6.408529  6.118097   \n",
       "\n",
       "                  K8        K9       K10       K11     avgE1     avgE2  \n",
       "Date                                                                    \n",
       "2015-03-16  6.828712  1.393842  0.190773  0.287682  6.275005  8.390356  \n",
       "2015-03-17  8.178639  1.710670  0.315157  0.263291  6.275005  8.390356  \n",
       "2015-03-18  8.210668  1.775353  0.312381  0.253449  6.275005  8.390356  \n",
       "2015-03-19  8.165648  1.753667  0.304319  0.326216  6.275005  8.390356  \n",
       "2015-03-20  8.246958  1.654102  0.328577  0.517943  6.275005  8.390356  "
      ]
     },
     "execution_count": 17,
     "metadata": {},
     "output_type": "execute_result"
    }
   ],
   "source": [
    "logs = np.log1p(df_kpis[cols_list])\n",
    "logs.head()"
   ]
  },
  {
   "cell_type": "code",
   "execution_count": 18,
   "metadata": {},
   "outputs": [
    {
     "data": {
      "text/html": [
       "<div>\n",
       "<style>\n",
       "    .dataframe thead tr:only-child th {\n",
       "        text-align: right;\n",
       "    }\n",
       "\n",
       "    .dataframe thead th {\n",
       "        text-align: left;\n",
       "    }\n",
       "\n",
       "    .dataframe tbody tr th {\n",
       "        vertical-align: top;\n",
       "    }\n",
       "</style>\n",
       "<table border=\"1\" class=\"dataframe\">\n",
       "  <thead>\n",
       "    <tr style=\"text-align: right;\">\n",
       "      <th></th>\n",
       "      <th>month_1</th>\n",
       "      <th>month_10</th>\n",
       "      <th>month_11</th>\n",
       "      <th>month_12</th>\n",
       "      <th>month_2</th>\n",
       "      <th>month_3</th>\n",
       "      <th>month_4</th>\n",
       "      <th>month_5</th>\n",
       "      <th>month_6</th>\n",
       "      <th>month_7</th>\n",
       "      <th>month_8</th>\n",
       "      <th>month_9</th>\n",
       "      <th>weekday_0</th>\n",
       "      <th>weekday_1</th>\n",
       "      <th>weekday_2</th>\n",
       "      <th>weekday_3</th>\n",
       "      <th>weekday_4</th>\n",
       "      <th>weekday_5</th>\n",
       "      <th>weekday_6</th>\n",
       "    </tr>\n",
       "    <tr>\n",
       "      <th>Date</th>\n",
       "      <th></th>\n",
       "      <th></th>\n",
       "      <th></th>\n",
       "      <th></th>\n",
       "      <th></th>\n",
       "      <th></th>\n",
       "      <th></th>\n",
       "      <th></th>\n",
       "      <th></th>\n",
       "      <th></th>\n",
       "      <th></th>\n",
       "      <th></th>\n",
       "      <th></th>\n",
       "      <th></th>\n",
       "      <th></th>\n",
       "      <th></th>\n",
       "      <th></th>\n",
       "      <th></th>\n",
       "      <th></th>\n",
       "    </tr>\n",
       "  </thead>\n",
       "  <tbody>\n",
       "    <tr>\n",
       "      <th>2015-03-16</th>\n",
       "      <td>0</td>\n",
       "      <td>0</td>\n",
       "      <td>0</td>\n",
       "      <td>0</td>\n",
       "      <td>0</td>\n",
       "      <td>1</td>\n",
       "      <td>0</td>\n",
       "      <td>0</td>\n",
       "      <td>0</td>\n",
       "      <td>0</td>\n",
       "      <td>0</td>\n",
       "      <td>0</td>\n",
       "      <td>1</td>\n",
       "      <td>0</td>\n",
       "      <td>0</td>\n",
       "      <td>0</td>\n",
       "      <td>0</td>\n",
       "      <td>0</td>\n",
       "      <td>0</td>\n",
       "    </tr>\n",
       "    <tr>\n",
       "      <th>2015-03-17</th>\n",
       "      <td>0</td>\n",
       "      <td>0</td>\n",
       "      <td>0</td>\n",
       "      <td>0</td>\n",
       "      <td>0</td>\n",
       "      <td>1</td>\n",
       "      <td>0</td>\n",
       "      <td>0</td>\n",
       "      <td>0</td>\n",
       "      <td>0</td>\n",
       "      <td>0</td>\n",
       "      <td>0</td>\n",
       "      <td>0</td>\n",
       "      <td>1</td>\n",
       "      <td>0</td>\n",
       "      <td>0</td>\n",
       "      <td>0</td>\n",
       "      <td>0</td>\n",
       "      <td>0</td>\n",
       "    </tr>\n",
       "    <tr>\n",
       "      <th>2015-03-18</th>\n",
       "      <td>0</td>\n",
       "      <td>0</td>\n",
       "      <td>0</td>\n",
       "      <td>0</td>\n",
       "      <td>0</td>\n",
       "      <td>1</td>\n",
       "      <td>0</td>\n",
       "      <td>0</td>\n",
       "      <td>0</td>\n",
       "      <td>0</td>\n",
       "      <td>0</td>\n",
       "      <td>0</td>\n",
       "      <td>0</td>\n",
       "      <td>0</td>\n",
       "      <td>1</td>\n",
       "      <td>0</td>\n",
       "      <td>0</td>\n",
       "      <td>0</td>\n",
       "      <td>0</td>\n",
       "    </tr>\n",
       "    <tr>\n",
       "      <th>2015-03-19</th>\n",
       "      <td>0</td>\n",
       "      <td>0</td>\n",
       "      <td>0</td>\n",
       "      <td>0</td>\n",
       "      <td>0</td>\n",
       "      <td>1</td>\n",
       "      <td>0</td>\n",
       "      <td>0</td>\n",
       "      <td>0</td>\n",
       "      <td>0</td>\n",
       "      <td>0</td>\n",
       "      <td>0</td>\n",
       "      <td>0</td>\n",
       "      <td>0</td>\n",
       "      <td>0</td>\n",
       "      <td>1</td>\n",
       "      <td>0</td>\n",
       "      <td>0</td>\n",
       "      <td>0</td>\n",
       "    </tr>\n",
       "    <tr>\n",
       "      <th>2015-03-20</th>\n",
       "      <td>0</td>\n",
       "      <td>0</td>\n",
       "      <td>0</td>\n",
       "      <td>0</td>\n",
       "      <td>0</td>\n",
       "      <td>1</td>\n",
       "      <td>0</td>\n",
       "      <td>0</td>\n",
       "      <td>0</td>\n",
       "      <td>0</td>\n",
       "      <td>0</td>\n",
       "      <td>0</td>\n",
       "      <td>0</td>\n",
       "      <td>0</td>\n",
       "      <td>0</td>\n",
       "      <td>0</td>\n",
       "      <td>1</td>\n",
       "      <td>0</td>\n",
       "      <td>0</td>\n",
       "    </tr>\n",
       "  </tbody>\n",
       "</table>\n",
       "</div>"
      ],
      "text/plain": [
       "            month_1  month_10  month_11  month_12  month_2  month_3  month_4  \\\n",
       "Date                                                                           \n",
       "2015-03-16        0         0         0         0        0        1        0   \n",
       "2015-03-17        0         0         0         0        0        1        0   \n",
       "2015-03-18        0         0         0         0        0        1        0   \n",
       "2015-03-19        0         0         0         0        0        1        0   \n",
       "2015-03-20        0         0         0         0        0        1        0   \n",
       "\n",
       "            month_5  month_6  month_7  month_8  month_9  weekday_0  weekday_1  \\\n",
       "Date                                                                            \n",
       "2015-03-16        0        0        0        0        0          1          0   \n",
       "2015-03-17        0        0        0        0        0          0          1   \n",
       "2015-03-18        0        0        0        0        0          0          0   \n",
       "2015-03-19        0        0        0        0        0          0          0   \n",
       "2015-03-20        0        0        0        0        0          0          0   \n",
       "\n",
       "            weekday_2  weekday_3  weekday_4  weekday_5  weekday_6  \n",
       "Date                                                               \n",
       "2015-03-16          0          0          0          0          0  \n",
       "2015-03-17          0          0          0          0          0  \n",
       "2015-03-18          1          0          0          0          0  \n",
       "2015-03-19          0          1          0          0          0  \n",
       "2015-03-20          0          0          1          0          0  "
      ]
     },
     "execution_count": 18,
     "metadata": {},
     "output_type": "execute_result"
    }
   ],
   "source": [
    "dummies = pd.get_dummies(df_kpis[['month', 'weekday']].astype(str))\n",
    "dummies.head()"
   ]
  },
  {
   "cell_type": "code",
   "execution_count": 19,
   "metadata": {},
   "outputs": [
    {
     "name": "stdout",
     "output_type": "stream",
     "text": [
      "(932, 31)\n",
      "Index(['K1', 'K2', 'K3', 'K4', 'K6', 'K7', 'K8', 'K9', 'K10', 'K11', 'avgE1',\n",
      "       'avgE2', 'month_1', 'month_10', 'month_11', 'month_12', 'month_2',\n",
      "       'month_3', 'month_4', 'month_5', 'month_6', 'month_7', 'month_8',\n",
      "       'month_9', 'weekday_0', 'weekday_1', 'weekday_2', 'weekday_3',\n",
      "       'weekday_4', 'weekday_5', 'weekday_6'],\n",
      "      dtype='object')\n"
     ]
    }
   ],
   "source": [
    "df = pd.concat([logs, dummies], axis=1)\n",
    "print(df.shape)\n",
    "print(df.columns)"
   ]
  },
  {
   "cell_type": "code",
   "execution_count": 20,
   "metadata": {},
   "outputs": [
    {
     "data": {
      "text/plain": [
       "array([ 433.72103124])"
      ]
     },
     "execution_count": 20,
     "metadata": {},
     "output_type": "execute_result"
    }
   ],
   "source": [
    "np.correlate(df['K11'], df['K9'])"
   ]
  },
  {
   "cell_type": "code",
   "execution_count": 21,
   "metadata": {},
   "outputs": [
    {
     "data": {
      "text/plain": [
       "array([ 0.51744952,  0.96245946,  1.42100035, ...,  0.50421893,\n",
       "        0.34533968,  0.16656622])"
      ]
     },
     "execution_count": 21,
     "metadata": {},
     "output_type": "execute_result"
    }
   ],
   "source": [
    "from scipy.signal import correlate\n",
    "correlate(df['K11'], df['K9'])"
   ]
  },
  {
   "cell_type": "code",
   "execution_count": 24,
   "metadata": {},
   "outputs": [
    {
     "data": {
      "text/plain": [
       "[<matplotlib.lines.Line2D at 0x2c1b9457240>]"
      ]
     },
     "execution_count": 24,
     "metadata": {},
     "output_type": "execute_result"
    },
    {
     "data": {
      "image/png": "[encoded data removed]",
      "text/plain": [
       "<matplotlib.figure.Figure at 0x2c1b931bf60>"
      ]
     },
     "metadata": {},
     "output_type": "display_data"
    }
   ],
   "source": [
    "from statsmodels.tsa.stattools import ccf\n",
    "plt.plot(ccf(df['K11'], df['K9'])[0:35])"
   ]
  },
  {
   "cell_type": "code",
   "execution_count": 28,
   "metadata": {},
   "outputs": [
    {
     "data": {
      "text/plain": [
       "[<matplotlib.lines.Line2D at 0x2c1b97d4048>]"
      ]
     },
     "execution_count": 28,
     "metadata": {},
     "output_type": "execute_result"
    },
    {
     "data": {
      "image/png": "[encoded data removed]",
      "text/plain": [
       "<matplotlib.figure.Figure at 0x2c1b956fcc0>"
      ]
     },
     "metadata": {},
     "output_type": "display_data"
    }
   ],
   "source": [
    "plt.plot(ccf(df['K11'], df['K7']))"
   ]
  },
  {
   "cell_type": "code",
   "execution_count": null,
   "metadata": {},
   "outputs": [],
   "source": [
    "from statsmodels.tsa.stattools import adfuller\n",
    "\n",
    "adfuller(df['K11'].values)"
   ]
  },
  {
   "cell_type": "code",
   "execution_count": null,
   "metadata": {},
   "outputs": [],
   "source": [
    "df.iloc[7:10]['K11']"
   ]
  },
  {
   "cell_type": "code",
   "execution_count": null,
   "metadata": {
    "collapsed": true
   },
   "outputs": [],
   "source": [
    "n = df.shape[0]\n",
    "mylag = 7\n",
    "k_last = df.iloc[(mylag - 1):n]['K11']\n",
    "k_first = df.iloc[0:(n - mylag)]['K11']\n",
    "k_diff = k_last.reset_index() - k_first.reset_index()\n",
    "# k_diff.drop('index', axis=1, inplace=True)"
   ]
  },
  {
   "cell_type": "code",
   "execution_count": null,
   "metadata": {
    "collapsed": true
   },
   "outputs": [],
   "source": [
    "k_diff.drop(k_diff[k_diff['K11'].isnull() == True].index, axis=0, inplace=True )"
   ]
  },
  {
   "cell_type": "code",
   "execution_count": null,
   "metadata": {},
   "outputs": [],
   "source": [
    "adfuller(k_diff['K11'].values)"
   ]
  },
  {
   "cell_type": "code",
   "execution_count": null,
   "metadata": {},
   "outputs": [],
   "source": [
    "k_diff['K11'].isnull() == True"
   ]
  }
 ],
 "metadata": {
  "kernelspec": {
   "display_name": "Python 3",
   "language": "python",
   "name": "python3"
  },
  "language_info": {
   "codemirror_mode": {
    "name": "ipython",
    "version": 3
   },
   "file_extension": ".py",
   "mimetype": "text/x-python",
   "name": "python",
   "nbconvert_exporter": "python",
   "pygments_lexer": "ipython3",
   "version": "3.6.2"
  }
 },
 "nbformat": 4,
 "nbformat_minor": 2
}
